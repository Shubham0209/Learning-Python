{
 "cells": [
  {
   "cell_type": "code",
   "execution_count": null,
   "metadata": {},
   "outputs": [
    {
     "name": "stdout",
     "output_type": "stream",
     "text": [
      "Sleeping 1 second(s)...\n",
      "Done Sleeping...\n",
      "Sleeping 1 second(s)...\n",
      "Done Sleeping...\n",
      "Finished in 2.02 second(s)\n"
     ]
    }
   ],
   "source": [
    "#running sync\n",
    "import time\n",
    "\n",
    "start = time.perf_counter()\n",
    "\n",
    "\n",
    "def do_something():\n",
    "    print('Sleeping 1 second(s)...')\n",
    "    time.sleep(1)\n",
    "    print('Done Sleeping...')\n",
    "\n",
    "do_something()\n",
    "do_something()\n",
    "\n",
    "finish = time.perf_counter()\n",
    "\n",
    "print(f'Finished in {round(finish-start, 2)} second(s)')"
   ]
  },
  {
   "cell_type": "code",
   "execution_count": null,
   "metadata": {},
   "outputs": [
    {
     "data": {
      "image/svg+xml": "<svg xmlns=\"http://www.w3.org/2000/svg\" xmlns:xlink=\"http://www.w3.org/1999/xlink\" version=\"1.1\" width=\"996px\" height=\"396px\" viewBox=\"-0.5 -0.5 996 396\" content=\"&lt;mxfile modified=&quot;2019-08-14T21:03:37.375Z&quot; host=&quot;&quot; agent=&quot;Mozilla/5.0 (Macintosh; Intel Mac OS X 10_14_5) AppleWebKit/537.36 (KHTML, like Gecko) draw.io/11.1.4 Chrome/76.0.3809.88 Electron/6.0.0 Safari/537.36&quot; etag=&quot;RpZSUlALihe0-_zCGPoW&quot; version=&quot;11.1.4&quot; type=&quot;device&quot;&gt;&lt;diagram id=&quot;sPgSZECuS-FUJn0V418L&quot; name=&quot;Page-1&quot;&gt;7Vhdb9owFP01SNsDleMkJjwy+vWyqRKVWvoymcRJrCYxc0wJ/fVzEhvyRSmlwCb1pbKPnRvnnuNzb+mZ4zi74Xge/mQeiXoQeFnPvOxBOLSQ/JsDqxJAwCiBgFOvhCrAhL4SBQKFLqhH0tpGwVgk6LwOuixJiCtqGOacLevbfBbV3zrHAWkBExdHbfSBeiIsUccGG/yW0CDUbzaAWomx3qyANMQeW1Yg86pnjjljohzF2ZhEee50Xsrnrresrg/GSSLe88D1jcni0e/06fl2cGtkM/jwK+irKC84WqgPvqcxUQcWK50FknijPJly5kY4TanbM3+EIo4kYMihzxKhuDNsNb/GMY1y1u9xyGIs0faJ1euJVyNBnf+GsJgIvpIblpvU68yHlaxrjJMIC/pSpw4rBQTrcOs33DEqTwKBEqulwiipWg6oR0jZgrtEPVTNdCOOA3cEEpgHRLQCyUHlqzdQQeQepFotUnsQRULxUmMW/VkwvdBPCwZHcoNkKSsI0+tyFBT7Fon77bsOJ09XRiwXW7LhbJF4JD8qkMvLkAoymWM3X11Kt2hoiEbRmEWMF8+ank0cz5J4Kjh7JpUVB85MhLaqrKJFCN5S3QvhgmRv6i6r60vzqe94RZZOhywR2K7AGuf7EoyOR7BMBJgQ6abeKUj2fR+6bhfJHpoh+6QkG2adZbOD5bVFnIRmo+si7+nMHk7Dgpx8QjIqHivjqSItH19m1cmqMrkjXNYEQbjGEvlxeZg+uADA0shUB84nm2jFbFWdNeMdyHDpyrvtsDTd3bfqHylGsCFHC36wGhmNsmY2A31eNZrCxLdgMJk+iVE46z8/oqfXjmp0yZJ2i3FQrcDE8TttBLkOmfl7iqzlGR2622ojaLi7WBjwSDbSSYB9AhcxPu4ioGog4NgG0rjdOx2lM6ODtqNsl/65DMSxhhfAqmmxpbF3d7QNUZv2aT3kiA3Pf9vRHuRS5uB8Le1bV+qrpf1Mli37jC1tJ83OV0d7jIKE3lmQBucsSHbz3+iPdrQWOm9HO/xqqPbR77n01qxxa/fbV29bi+XBepPTzQ/A5fbNr+jm1V8=&lt;/diagram&gt;&lt;/mxfile&gt;\" style=\"background-color: rgb(255, 255, 255);\"><defs/><g><path d=\"M 107 287 L 880.63 287\" fill=\"none\" stroke=\"#000000\" stroke-miterlimit=\"10\" pointer-events=\"none\"/><path d=\"M 885.88 287 L 878.88 290.5 L 880.63 287 L 878.88 283.5 Z\" fill=\"#000000\" stroke=\"#000000\" stroke-miterlimit=\"10\" pointer-events=\"none\"/><g transform=\"translate(480.5,278.5)\"><switch><foreignObject style=\"overflow:visible;\" pointer-events=\"all\" width=\"33\" height=\"16\" requiredFeatures=\"http://www.w3.org/TR/SVG11/feature#Extensibility\"><div xmlns=\"http://www.w3.org/1999/xhtml\" style=\"display: inline-block; font-size: 15px; font-family: Tahoma; color: rgb(0, 0, 0); line-height: 1.2; vertical-align: top; white-space: nowrap; text-align: center;\"><div xmlns=\"http://www.w3.org/1999/xhtml\" style=\"display:inline-block;text-align:inherit;text-decoration:inherit;background-color:#ffffff;\">Time</div></div></foreignObject><text x=\"17\" y=\"16\" fill=\"#000000\" text-anchor=\"middle\" font-size=\"15px\" font-family=\"Tahoma\">Time</text></switch></g><rect x=\"117\" y=\"207\" width=\"80\" height=\"60\" fill=\"#d5e8d4\" stroke=\"#82b366\" pointer-events=\"none\"/><g transform=\"translate(129.5,225.5)\"><switch><foreignObject style=\"overflow:visible;\" pointer-events=\"all\" width=\"54\" height=\"22\" requiredFeatures=\"http://www.w3.org/TR/SVG11/feature#Extensibility\"><div xmlns=\"http://www.w3.org/1999/xhtml\" style=\"display: inline-block; font-size: 20px; font-family: Tahoma; color: rgb(0, 0, 0); line-height: 1.2; vertical-align: top; width: 54px; white-space: nowrap; overflow-wrap: normal; text-align: center;\"><div xmlns=\"http://www.w3.org/1999/xhtml\" style=\"display:inline-block;text-align:inherit;text-decoration:inherit;white-space:normal;\"><font style=\"font-size: 20px\">func()</font></div></div></foreignObject><text x=\"27\" y=\"21\" fill=\"#000000\" text-anchor=\"middle\" font-size=\"20px\" font-family=\"Tahoma\">[Not supported by viewer]</text></switch></g><rect x=\"197\" y=\"107\" width=\"240\" height=\"60\" fill=\"#fff2cc\" stroke=\"#d6b656\" pointer-events=\"none\"/><g transform=\"translate(275.5,125.5)\"><switch><foreignObject style=\"overflow:visible;\" pointer-events=\"all\" width=\"82\" height=\"22\" requiredFeatures=\"http://www.w3.org/TR/SVG11/feature#Extensibility\"><div xmlns=\"http://www.w3.org/1999/xhtml\" style=\"display: inline-block; font-size: 20px; font-family: Tahoma; color: rgb(0, 0, 0); line-height: 1.2; vertical-align: top; width: 82px; white-space: nowrap; overflow-wrap: normal; text-align: center;\"><div xmlns=\"http://www.w3.org/1999/xhtml\" style=\"display:inline-block;text-align:inherit;text-decoration:inherit;white-space:normal;\"><font style=\"font-size: 20px\">1 Second</font></div></div></foreignObject><text x=\"41\" y=\"21\" fill=\"#000000\" text-anchor=\"middle\" font-size=\"20px\" font-family=\"Tahoma\">[Not supported by viewer]</text></switch></g><path d=\"M 197 207 L 196.19 173.37\" fill=\"none\" stroke=\"#000000\" stroke-miterlimit=\"10\" stroke-dasharray=\"3 3\" pointer-events=\"none\"/><path d=\"M 196.07 168.12 L 199.73 175.03 L 196.19 173.37 L 192.74 175.2 Z\" fill=\"#000000\" stroke=\"#000000\" stroke-miterlimit=\"10\" pointer-events=\"none\"/><rect x=\"757\" y=\"207\" width=\"120\" height=\"60\" fill=\"#dae8fc\" stroke=\"#6c8ebf\" pointer-events=\"none\"/><g transform=\"translate(793.5,225.5)\"><switch><foreignObject style=\"overflow:visible;\" pointer-events=\"all\" width=\"46\" height=\"22\" requiredFeatures=\"http://www.w3.org/TR/SVG11/feature#Extensibility\"><div xmlns=\"http://www.w3.org/1999/xhtml\" style=\"display: inline-block; font-size: 20px; font-family: Tahoma; color: rgb(0, 0, 0); line-height: 1.2; vertical-align: top; width: 48px; white-space: nowrap; overflow-wrap: normal; text-align: center;\"><div xmlns=\"http://www.w3.org/1999/xhtml\" style=\"display:inline-block;text-align:inherit;text-decoration:inherit;white-space:normal;\">Done</div></div></foreignObject><text x=\"23\" y=\"21\" fill=\"#000000\" text-anchor=\"middle\" font-size=\"20px\" font-family=\"Tahoma\">Done</text></switch></g><path d=\"M 757 167 L 757 200.63\" fill=\"none\" stroke=\"#000000\" stroke-miterlimit=\"10\" stroke-dasharray=\"3 3\" pointer-events=\"none\"/><path d=\"M 757 205.88 L 753.5 198.88 L 757 200.63 L 760.5 198.88 Z\" fill=\"#000000\" stroke=\"#000000\" stroke-miterlimit=\"10\" pointer-events=\"none\"/><rect x=\"437\" y=\"207\" width=\"80\" height=\"60\" fill=\"#d5e8d4\" stroke=\"#82b366\" pointer-events=\"none\"/><g transform=\"translate(449.5,225.5)\"><switch><foreignObject style=\"overflow:visible;\" pointer-events=\"all\" width=\"54\" height=\"22\" requiredFeatures=\"http://www.w3.org/TR/SVG11/feature#Extensibility\"><div xmlns=\"http://www.w3.org/1999/xhtml\" style=\"display: inline-block; font-size: 20px; font-family: Tahoma; color: rgb(0, 0, 0); line-height: 1.2; vertical-align: top; width: 54px; white-space: nowrap; overflow-wrap: normal; text-align: center;\"><div xmlns=\"http://www.w3.org/1999/xhtml\" style=\"display:inline-block;text-align:inherit;text-decoration:inherit;white-space:normal;\"><font style=\"font-size: 20px\">func()</font></div></div></foreignObject><text x=\"27\" y=\"21\" fill=\"#000000\" text-anchor=\"middle\" font-size=\"20px\" font-family=\"Tahoma\">[Not supported by viewer]</text></switch></g><rect x=\"517\" y=\"107\" width=\"240\" height=\"60\" fill=\"#fff2cc\" stroke=\"#d6b656\" pointer-events=\"none\"/><g transform=\"translate(595.5,125.5)\"><switch><foreignObject style=\"overflow:visible;\" pointer-events=\"all\" width=\"82\" height=\"22\" requiredFeatures=\"http://www.w3.org/TR/SVG11/feature#Extensibility\"><div xmlns=\"http://www.w3.org/1999/xhtml\" style=\"display: inline-block; font-size: 20px; font-family: Tahoma; color: rgb(0, 0, 0); line-height: 1.2; vertical-align: top; width: 82px; white-space: nowrap; overflow-wrap: normal; text-align: center;\"><div xmlns=\"http://www.w3.org/1999/xhtml\" style=\"display:inline-block;text-align:inherit;text-decoration:inherit;white-space:normal;\"><font style=\"font-size: 20px\">1 Second</font></div></div></foreignObject><text x=\"41\" y=\"21\" fill=\"#000000\" text-anchor=\"middle\" font-size=\"20px\" font-family=\"Tahoma\">[Not supported by viewer]</text></switch></g><path d=\"M 517 207 L 516.19 173.37\" fill=\"none\" stroke=\"#000000\" stroke-miterlimit=\"10\" stroke-dasharray=\"3 3\" pointer-events=\"none\"/><path d=\"M 516.07 168.12 L 519.73 175.03 L 516.19 173.37 L 512.74 175.2 Z\" fill=\"#000000\" stroke=\"#000000\" stroke-miterlimit=\"10\" pointer-events=\"none\"/><path d=\"M 437 107 L 437 200.63\" fill=\"none\" stroke=\"#000000\" stroke-miterlimit=\"10\" stroke-dasharray=\"3 3\" pointer-events=\"none\"/><path d=\"M 437 205.88 L 433.5 198.88 L 437 200.63 L 440.5 198.88 Z\" fill=\"#000000\" stroke=\"#000000\" stroke-miterlimit=\"10\" pointer-events=\"none\"/></g></svg>",
      "text/plain": [
       "<IPython.core.display.SVG object>"
      ]
     },
     "execution_count": 13,
     "metadata": {},
     "output_type": "execute_result"
    }
   ],
   "source": [
    "#Without threading\n",
    "from IPython.display import SVG\n",
    "SVG(\"multiprocessing-1.svg\")"
   ]
  },
  {
   "cell_type": "markdown",
   "metadata": {},
   "source": [
    "The above code runs synchronusly and we can't use CPU resouces to full efficiency.\n",
    "- CPU bound tasks are things that are crunching a lot of numbers and using the CPU and \n",
    "- the i/o bound tasks are things that are just waiting for input and output operations to be completed and not really using the CPU all that much. So some other examples of i/o bound tasks include you know reading and writing from the file system and other file system operations network operations downloading stuff online and things like that.\n",
    "- Use threading if you have I/O bound jobs.\n"
   ]
  },
  {
   "cell_type": "code",
   "execution_count": null,
   "metadata": {},
   "outputs": [
    {
     "data": {
      "image/svg+xml": "<svg xmlns=\"http://www.w3.org/2000/svg\" xmlns:xlink=\"http://www.w3.org/1999/xlink\" version=\"1.1\" width=\"776px\" height=\"529px\" viewBox=\"-0.5 -0.5 776 529\" content=\"&lt;mxfile modified=&quot;2019-08-14T21:02:14.694Z&quot; host=&quot;&quot; agent=&quot;Mozilla/5.0 (Macintosh; Intel Mac OS X 10_14_5) AppleWebKit/537.36 (KHTML, like Gecko) draw.io/11.1.4 Chrome/76.0.3809.88 Electron/6.0.0 Safari/537.36&quot; etag=&quot;JIFj7xlyL6G8K1oqClvz&quot; version=&quot;11.1.4&quot; type=&quot;device&quot;&gt;&lt;diagram id=&quot;sPgSZECuS-FUJn0V418L&quot; name=&quot;Page-1&quot;&gt;7Vhdb5swFP01SNtDKmOISx+z9OtlU6VUapOXycEGrALOjNOQ/vqZYBIwpGmaJt2kvlT2sbk49xyfe4vlDJP8RuBZ9JMTGlsQkNxyLi0IL1yk/hbAsgQQsEsgFIyUUA0YsReqQaDROSM0a2yUnMeSzZqgz9OU+rKBYSH4orkt4HHzrTMc0hYw8nHcRh8YkVGJen2wwW8pC6PqzTbQKwmuNmsgizDhixrkXFnOUHAuy1GSD2lc5K7KS/nc9ZbV9cEETeVbHri+cXgy+J1Nnm7Pb+18Ch9+hT0d5RnHc/2D71lC9YHlssoCTcmgSKaa+THOMuZbzo9IJrECbDUMeCo1d3Zfz69xwuKC9Xsc8QQrtH1i/XpKGiTo899QnlAplmrDYpP6KvNRLesVJmiMJXtuUoe1AsJ1uPUb7jhTJ4FAi9XVYbRUXQ80I2R8LnyqH6pn2oiDwI5AEouQylYgNaj96g20InIPUt0WqRZEsdS8NJhFf+a8WuhlKwYHaoNiKV8RVq2rUbjaN0/9b9+rcOp0ZcRysSUbwecpocVRgVpeREzS0Qz7xepCuYWhIRbHQx5zsXrWIX3qEVfhmRT8idZWPDh1ENqqspoWIXhNdc9USJq/qru8qS/Np1Nd6ZosvQ5ZIrBdgQ3O9yUYHY9glQgwospNySlIDoIA+n4XyQRNUf+kJNtOk2UbtVleW8RJaLa7LvKezkxwFq3IKSY0Z/KxNh5r0orxZV6fLGuTOypUTZBUVFiqflwRpgfOAHArZFwFLiabaKvZsj4z4x3IcOnKu+2wNN3dt+ofKUbQkKPjvrMa2UZZg2agj6tGY5gGLgxH44kcRNPe0yOavHRUo0uetluMg2oFpl7QaSPI9+g02FNkLc/o0N1WG3GNYuGCto3Y8Eg20klA/wQuYr/fRUDdQMCxDcS43TsdpTOj521H2S79zzIQBC7OgNu8+qbG3tzRmh1Q/7QecsSG57/taA9yKbPZ6XKpY7W0r12pr5b2I1lef0UxS/8pWtpOmr2vjvYYBQm9sSCdf2ZBcgw1uvCd1Wj9Sc38f/zgaqSmmw9y5fbNV03n6i8=&lt;/diagram&gt;&lt;/mxfile&gt;\" style=\"background-color: rgb(255, 255, 255);\"><defs/><g><path d=\"M 107 420 L 660.63 420\" fill=\"none\" stroke=\"#000000\" stroke-miterlimit=\"10\" pointer-events=\"none\"/><path d=\"M 665.88 420 L 658.88 423.5 L 660.63 420 L 658.88 416.5 Z\" fill=\"#000000\" stroke=\"#000000\" stroke-miterlimit=\"10\" pointer-events=\"none\"/><g transform=\"translate(370.5,411.5)\"><switch><foreignObject style=\"overflow:visible;\" pointer-events=\"all\" width=\"33\" height=\"16\" requiredFeatures=\"http://www.w3.org/TR/SVG11/feature#Extensibility\"><div xmlns=\"http://www.w3.org/1999/xhtml\" style=\"display: inline-block; font-size: 15px; font-family: Tahoma; color: rgb(0, 0, 0); line-height: 1.2; vertical-align: top; white-space: nowrap; text-align: center;\"><div xmlns=\"http://www.w3.org/1999/xhtml\" style=\"display:inline-block;text-align:inherit;text-decoration:inherit;background-color:#ffffff;\">Time</div></div></foreignObject><text x=\"17\" y=\"16\" fill=\"#000000\" text-anchor=\"middle\" font-size=\"15px\" font-family=\"Tahoma\">Time</text></switch></g><rect x=\"117\" y=\"260\" width=\"80\" height=\"60\" fill=\"#d5e8d4\" stroke=\"#82b366\" pointer-events=\"none\"/><g transform=\"translate(129.5,278.5)\"><switch><foreignObject style=\"overflow:visible;\" pointer-events=\"all\" width=\"54\" height=\"22\" requiredFeatures=\"http://www.w3.org/TR/SVG11/feature#Extensibility\"><div xmlns=\"http://www.w3.org/1999/xhtml\" style=\"display: inline-block; font-size: 20px; font-family: Tahoma; color: rgb(0, 0, 0); line-height: 1.2; vertical-align: top; width: 54px; white-space: nowrap; overflow-wrap: normal; text-align: center;\"><div xmlns=\"http://www.w3.org/1999/xhtml\" style=\"display:inline-block;text-align:inherit;text-decoration:inherit;white-space:normal;\"><font style=\"font-size: 20px\">func()</font></div></div></foreignObject><text x=\"27\" y=\"21\" fill=\"#000000\" text-anchor=\"middle\" font-size=\"20px\" font-family=\"Tahoma\">[Not supported by viewer]</text></switch></g><rect x=\"197\" y=\"100\" width=\"240\" height=\"60\" fill=\"#fff2cc\" stroke=\"#d6b656\" pointer-events=\"none\"/><g transform=\"translate(275.5,118.5)\"><switch><foreignObject style=\"overflow:visible;\" pointer-events=\"all\" width=\"82\" height=\"22\" requiredFeatures=\"http://www.w3.org/TR/SVG11/feature#Extensibility\"><div xmlns=\"http://www.w3.org/1999/xhtml\" style=\"display: inline-block; font-size: 20px; font-family: Tahoma; color: rgb(0, 0, 0); line-height: 1.2; vertical-align: top; width: 82px; white-space: nowrap; overflow-wrap: normal; text-align: center;\"><div xmlns=\"http://www.w3.org/1999/xhtml\" style=\"display:inline-block;text-align:inherit;text-decoration:inherit;white-space:normal;\"><font style=\"font-size: 20px\">1 Second</font></div></div></foreignObject><text x=\"41\" y=\"21\" fill=\"#000000\" text-anchor=\"middle\" font-size=\"20px\" font-family=\"Tahoma\">[Not supported by viewer]</text></switch></g><path d=\"M 197 260 L 196.1 166.37\" fill=\"none\" stroke=\"#000000\" stroke-miterlimit=\"10\" stroke-dasharray=\"3 3\" pointer-events=\"none\"/><path d=\"M 196.05 161.12 L 199.62 168.08 L 196.1 166.37 L 192.62 168.15 Z\" fill=\"#000000\" stroke=\"#000000\" stroke-miterlimit=\"10\" pointer-events=\"none\"/><rect x=\"517\" y=\"340\" width=\"120\" height=\"60\" fill=\"#dae8fc\" stroke=\"#6c8ebf\" pointer-events=\"none\"/><g transform=\"translate(553.5,358.5)\"><switch><foreignObject style=\"overflow:visible;\" pointer-events=\"all\" width=\"46\" height=\"22\" requiredFeatures=\"http://www.w3.org/TR/SVG11/feature#Extensibility\"><div xmlns=\"http://www.w3.org/1999/xhtml\" style=\"display: inline-block; font-size: 20px; font-family: Tahoma; color: rgb(0, 0, 0); line-height: 1.2; vertical-align: top; width: 48px; white-space: nowrap; overflow-wrap: normal; text-align: center;\"><div xmlns=\"http://www.w3.org/1999/xhtml\" style=\"display:inline-block;text-align:inherit;text-decoration:inherit;white-space:normal;\">Done</div></div></foreignObject><text x=\"23\" y=\"21\" fill=\"#000000\" text-anchor=\"middle\" font-size=\"20px\" font-family=\"Tahoma\">Done</text></switch></g><path d=\"M 517 240 L 517 333.63\" fill=\"none\" stroke=\"#000000\" stroke-miterlimit=\"10\" stroke-dasharray=\"3 3\" pointer-events=\"none\"/><path d=\"M 517 338.88 L 513.5 331.88 L 517 333.63 L 520.5 331.88 Z\" fill=\"#000000\" stroke=\"#000000\" stroke-miterlimit=\"10\" pointer-events=\"none\"/><rect x=\"197\" y=\"340\" width=\"80\" height=\"60\" fill=\"#d5e8d4\" stroke=\"#82b366\" pointer-events=\"none\"/><g transform=\"translate(209.5,358.5)\"><switch><foreignObject style=\"overflow:visible;\" pointer-events=\"all\" width=\"54\" height=\"22\" requiredFeatures=\"http://www.w3.org/TR/SVG11/feature#Extensibility\"><div xmlns=\"http://www.w3.org/1999/xhtml\" style=\"display: inline-block; font-size: 20px; font-family: Tahoma; color: rgb(0, 0, 0); line-height: 1.2; vertical-align: top; width: 54px; white-space: nowrap; overflow-wrap: normal; text-align: center;\"><div xmlns=\"http://www.w3.org/1999/xhtml\" style=\"display:inline-block;text-align:inherit;text-decoration:inherit;white-space:normal;\"><font style=\"font-size: 20px\">func()</font></div></div></foreignObject><text x=\"27\" y=\"21\" fill=\"#000000\" text-anchor=\"middle\" font-size=\"20px\" font-family=\"Tahoma\">[Not supported by viewer]</text></switch></g><rect x=\"277\" y=\"180\" width=\"240\" height=\"60\" fill=\"#fff2cc\" stroke=\"#d6b656\" pointer-events=\"none\"/><g transform=\"translate(355.5,198.5)\"><switch><foreignObject style=\"overflow:visible;\" pointer-events=\"all\" width=\"82\" height=\"22\" requiredFeatures=\"http://www.w3.org/TR/SVG11/feature#Extensibility\"><div xmlns=\"http://www.w3.org/1999/xhtml\" style=\"display: inline-block; font-size: 20px; font-family: Tahoma; color: rgb(0, 0, 0); line-height: 1.2; vertical-align: top; width: 82px; white-space: nowrap; overflow-wrap: normal; text-align: center;\"><div xmlns=\"http://www.w3.org/1999/xhtml\" style=\"display:inline-block;text-align:inherit;text-decoration:inherit;white-space:normal;\"><font style=\"font-size: 20px\">1 Second</font></div></div></foreignObject><text x=\"41\" y=\"21\" fill=\"#000000\" text-anchor=\"middle\" font-size=\"20px\" font-family=\"Tahoma\">[Not supported by viewer]</text></switch></g><path d=\"M 277 340 L 276.1 246.37\" fill=\"none\" stroke=\"#000000\" stroke-miterlimit=\"10\" stroke-dasharray=\"3 3\" pointer-events=\"none\"/><path d=\"M 276.05 241.12 L 279.62 248.08 L 276.1 246.37 L 272.62 248.15 Z\" fill=\"#000000\" stroke=\"#000000\" stroke-miterlimit=\"10\" pointer-events=\"none\"/></g></svg>",
      "text/plain": [
       "<IPython.core.display.SVG object>"
      ]
     },
     "execution_count": 14,
     "metadata": {},
     "output_type": "execute_result"
    }
   ],
   "source": [
    "#With threading\n",
    "from IPython.display import SVG\n",
    "SVG(\"threading-2.svg\")"
   ]
  },
  {
   "cell_type": "code",
   "execution_count": null,
   "metadata": {},
   "outputs": [
    {
     "name": "stdout",
     "output_type": "stream",
     "text": [
      "Sleeping 1 second(s)...\n",
      "Sleeping 1 second(s)...Finished in 0.02 second(s)\n",
      "\n",
      "Done Sleeping...Done Sleeping...\n",
      "\n"
     ]
    }
   ],
   "source": [
    "#running async - Snippet 2\n",
    "import threading\n",
    "import time\n",
    "\n",
    "start = time.perf_counter()\n",
    "\n",
    "\n",
    "def do_something():\n",
    "    print('Sleeping 1 second(s)...')\n",
    "    time.sleep(1)\n",
    "    print('Done Sleeping...')\n",
    "\n",
    "t1 = threading.Thread(target=do_something)\n",
    "t2 = threading.Thread(target=do_something)\n",
    "\n",
    "t1.start()\n",
    "t2.start()\n",
    "\n",
    "finish = time.perf_counter()\n",
    "\n",
    "print(f'Finished in {round(finish-start, 2)} second(s)')"
   ]
  },
  {
   "cell_type": "code",
   "execution_count": null,
   "metadata": {},
   "outputs": [
    {
     "name": "stdout",
     "output_type": "stream",
     "text": [
      "Sleeping 1 second(s)...\n",
      "Sleeping 1 second(s)...\n",
      "Done Sleeping...\n",
      "Done Sleeping...\n",
      "Finished in 1.02 second(s)\n"
     ]
    }
   ],
   "source": [
    "#running async - Snippet 3\n",
    "import threading\n",
    "import time\n",
    "\n",
    "start = time.perf_counter()\n",
    "\n",
    "\n",
    "def do_something():\n",
    "    print('Sleeping 1 second(s)...')\n",
    "    time.sleep(1)\n",
    "    print('Done Sleeping...')\n",
    "\n",
    "t1 = threading.Thread(target=do_something)\n",
    "t2 = threading.Thread(target=do_something)\n",
    "\n",
    "t1.start()\n",
    "t2.start()\n",
    "\n",
    "t1.join()\n",
    "t2.join()\n",
    "\n",
    "finish = time.perf_counter()\n",
    "\n",
    "print(f'Finished in {round(finish-start, 2)} second(s)')"
   ]
  },
  {
   "cell_type": "code",
   "execution_count": null,
   "metadata": {},
   "outputs": [
    {
     "name": "stdout",
     "output_type": "stream",
     "text": [
      "Sleeping 1 second(s)...Sleeping 1 second(s)...\n",
      "\n",
      "Sleeping 1 second(s)...\n",
      "Sleeping 1 second(s)...\n",
      "Sleeping 1 second(s)...\n",
      "Sleeping 1 second(s)...\n",
      "Sleeping 1 second(s)...\n",
      "Sleeping 1 second(s)...\n",
      "Sleeping 1 second(s)...\n",
      "Sleeping 1 second(s)...\n",
      "Done Sleeping...\n",
      "Done Sleeping...\n",
      "Done Sleeping...\n",
      "Done Sleeping...\n",
      "Done Sleeping...\n",
      "Done Sleeping...Done Sleeping...\n",
      "\n",
      "Done Sleeping...\n",
      "Done Sleeping...\n",
      "Done Sleeping...\n",
      "Finished in 1.08 second(s)\n"
     ]
    }
   ],
   "source": [
    "#running async - Snippet 4\n",
    "import threading\n",
    "import time\n",
    "\n",
    "start = time.perf_counter()\n",
    "\n",
    "\n",
    "def do_something():\n",
    "    print('Sleeping 1 second(s)...')\n",
    "    time.sleep(1)\n",
    "    print('Done Sleeping...')\n",
    "\n",
    "threads = []\n",
    "for _ in range(10):\n",
    "    t = threading.Thread(target=do_something)\n",
    "    t.start()\n",
    "    threads.append(t)\n",
    "\n",
    "#Because we can't go .join() within above for loop because it would lead to problem as in Snippet 2\n",
    "for t in threads:\n",
    "    t.join()\n",
    "    \n",
    "\n",
    "finish = time.perf_counter()\n",
    "\n",
    "print(f'Finished in {round(finish-start, 2)} second(s)')"
   ]
  },
  {
   "cell_type": "code",
   "execution_count": null,
   "metadata": {},
   "outputs": [
    {
     "name": "stdout",
     "output_type": "stream",
     "text": [
      "Sleeping 1.5 second(s)...\n",
      "Sleeping 1.5 second(s)...\n",
      "Sleeping 1.5 second(s)...\n",
      "Sleeping 1.5 second(s)...\n",
      "Sleeping 1.5 second(s)...\n",
      "Sleeping 1.5 second(s)...\n",
      "Sleeping 1.5 second(s)...\n",
      "Sleeping 1.5 second(s)...\n",
      "Sleeping 1.5 second(s)...\n",
      "Sleeping 1.5 second(s)...\n",
      "Done Sleeping...Done Sleeping...\n",
      "Done Sleeping...\n",
      "\n",
      "Done Sleeping...\n",
      "Done Sleeping...Done Sleeping...Done Sleeping...\n",
      "Done Sleeping...\n",
      "\n",
      "\n",
      "Done Sleeping...Done Sleeping...\n",
      "\n",
      "Finished in 1.55 second(s)\n"
     ]
    }
   ],
   "source": [
    "# Above implementation doesn't accept arguments - Snippet 5\n",
    "import threading\n",
    "import time\n",
    "\n",
    "start = time.perf_counter()\n",
    "\n",
    "\n",
    "def do_something(seconds):\n",
    "    print(f'Sleeping {seconds} second(s)...')\n",
    "    time.sleep(seconds)\n",
    "    print('Done Sleeping...')\n",
    "\n",
    "threads = []\n",
    "for _ in range(10):\n",
    "    t = threading.Thread(target=do_something,args=[1.5])\n",
    "    t.start()\n",
    "    threads.append(t)\n",
    "\n",
    "#Because we can't go .join() within above for loop because it would lead to problem as in Snippet 2\n",
    "for t in threads:\n",
    "    t.join()\n",
    "    \n",
    "\n",
    "finish = time.perf_counter()\n",
    "\n",
    "print(f'Finished in {round(finish-start, 2)} second(s)')"
   ]
  },
  {
   "cell_type": "code",
   "execution_count": null,
   "metadata": {},
   "outputs": [
    {
     "name": "stdout",
     "output_type": "stream",
     "text": [
      "Sleeping 1 second(s)...\n",
      "Sleeping 1 second(s)...\n",
      "Done Sleeping...\n",
      "Done Sleeping...\n",
      "Finished in 1.02 second(s)\n"
     ]
    }
   ],
   "source": [
    "# More efficent way of implementation - Snippet 6\n",
    "import concurrent.futures\n",
    "import time\n",
    "\n",
    "start = time.perf_counter()\n",
    "\n",
    "\n",
    "def do_something(seconds):\n",
    "    print(f'Sleeping {seconds} second(s)...')\n",
    "    time.sleep(seconds)\n",
    "    return 'Done Sleeping...'\n",
    "\n",
    "with concurrent.futures.ThreadPoolExecutor() as executor:\n",
    "    f1=executor.submit(do_something, 1) #used if function has to be executed once. It schedules the function to be executed and returns a future object.\n",
    "    f2=executor.submit(do_something, 1)\n",
    "    print(f1.result())\n",
    "    print(f2.result())\n",
    "\n",
    "finish = time.perf_counter()\n",
    "\n",
    "print(f'Finished in {round(finish-start, 2)} second(s)')\n",
    "\n"
   ]
  },
  {
   "cell_type": "code",
   "execution_count": null,
   "metadata": {},
   "outputs": [
    {
     "name": "stdout",
     "output_type": "stream",
     "text": [
      "Sleeping 1 second(s)...\n",
      "Sleeping 1 second(s)...\n",
      "Sleeping 1 second(s)...\n",
      "Sleeping 1 second(s)...\n",
      "Sleeping 1 second(s)...\n",
      "Sleeping 1 second(s)...\n",
      "Sleeping 1 second(s)...\n",
      "Sleeping 1 second(s)...\n",
      "Sleeping 1 second(s)...\n",
      "Sleeping 1 second(s)...\n",
      "Done Sleeping...\n",
      "Done Sleeping...\n",
      "Done Sleeping...\n",
      "Done Sleeping...\n",
      "Done Sleeping...\n",
      "Done Sleeping...\n",
      "Done Sleeping...\n",
      "Done Sleeping...\n",
      "Done Sleeping...\n",
      "Done Sleeping...\n",
      "Finished in 1.07 second(s)\n"
     ]
    }
   ],
   "source": [
    "import concurrent.futures\n",
    "import time\n",
    "\n",
    "start = time.perf_counter()\n",
    "\n",
    "\n",
    "def do_something(seconds):\n",
    "    print(f'Sleeping {seconds} second(s)...')\n",
    "    time.sleep(seconds)\n",
    "    return 'Done Sleeping...'\n",
    "\n",
    "\n",
    "with concurrent.futures.ThreadPoolExecutor() as executor:\n",
    "    results =[executor.submit(do_something, 1) for _ in range(10)]\n",
    "\n",
    "    for f in concurrent.futures.as_completed(results):\n",
    "        print(f.result())\n",
    "\n",
    "\n",
    "finish = time.perf_counter()\n",
    "\n",
    "print(f'Finished in {round(finish-start, 2)} second(s)')"
   ]
  },
  {
   "cell_type": "code",
   "execution_count": null,
   "metadata": {},
   "outputs": [
    {
     "name": "stdout",
     "output_type": "stream",
     "text": [
      "Sleeping 5 second(s)...\n",
      "Sleeping 4 second(s)...Sleeping 3 second(s)...\n",
      "\n",
      "Sleeping 2 second(s)...\n",
      "Sleeping 1 second(s)...\n",
      "Done Sleeping 1 seconds...\n",
      "Done Sleeping 2 seconds...\n",
      "Done Sleeping 3 seconds...\n",
      "Done Sleeping 4 seconds...\n",
      "Done Sleeping 5 seconds...\n",
      "Finished in 5.02 second(s)\n"
     ]
    }
   ],
   "source": [
    "import concurrent.futures\n",
    "import time\n",
    "\n",
    "start = time.perf_counter()\n",
    "\n",
    "\n",
    "def do_something(seconds):\n",
    "    print(f'Sleeping {seconds} second(s)...')\n",
    "    time.sleep(seconds)\n",
    "    return f'Done Sleeping {seconds} seconds...'\n",
    "\n",
    "\n",
    "with concurrent.futures.ThreadPoolExecutor() as executor:\n",
    "    secs = [5,4,3,2,1]\n",
    "    results =[executor.submit(do_something, sec) for sec in secs]\n",
    "\n",
    "    for f in concurrent.futures.as_completed(results):\n",
    "        print(f.result())\n",
    "\n",
    "\n",
    "finish = time.perf_counter()\n",
    "\n",
    "print(f'Finished in {round(finish-start, 2)} second(s)')"
   ]
  },
  {
   "cell_type": "markdown",
   "metadata": {},
   "source": [
    "5 sec thread started first but due ti as_completed, the ouput is printed in order in which the threads completed"
   ]
  },
  {
   "cell_type": "code",
   "execution_count": null,
   "metadata": {},
   "outputs": [
    {
     "name": "stdout",
     "output_type": "stream",
     "text": [
      "Sleeping 5 second(s)...\n",
      "Sleeping 4 second(s)...\n",
      "Sleeping 3 second(s)...\n",
      "Sleeping 2 second(s)...\n",
      "Sleeping 1 second(s)...\n",
      "Done Sleeping 5 seconds...\n",
      "Done Sleeping 4 seconds...\n",
      "Done Sleeping 3 seconds...\n",
      "Done Sleeping 2 seconds...\n",
      "Done Sleeping 1 seconds...\n",
      "Finished in 5.02 second(s)\n"
     ]
    }
   ],
   "source": [
    "import concurrent.futures\n",
    "import time\n",
    "\n",
    "start = time.perf_counter()\n",
    "\n",
    "\n",
    "def do_something(seconds):\n",
    "    print(f'Sleeping {seconds} second(s)...')\n",
    "    time.sleep(seconds)\n",
    "    return f'Done Sleeping {seconds} seconds...'\n",
    "\n",
    "with concurrent.futures.ThreadPoolExecutor() as executor:\n",
    "    secs = [5, 4, 3, 2, 1]\n",
    "    results = executor.map(do_something, secs)\n",
    "\n",
    "    for result in results:\n",
    "        print(result)\n",
    "\n",
    "\n",
    "\n",
    "finish = time.perf_counter()\n",
    "\n",
    "print(f'Finished in {round(finish-start, 2)} second(s)')"
   ]
  },
  {
   "cell_type": "code",
   "execution_count": 1,
   "metadata": {},
   "outputs": [
    {
     "name": "stdout",
     "output_type": "stream",
     "text": [
      "photo-1516117172878-fd2c41f4a759.jpg was downloaded...\n",
      "photo-1530224264768-7ff8c1789d79.jpg was downloaded...\n",
      "photo-1532009324734-20a7a5813719.jpg was downloaded...\n",
      "photo-1524429656589-6633a470097c.jpg was downloaded...\n",
      "Finished in 35.19724760000001 seconds\n"
     ]
    }
   ],
   "source": [
    "import requests\n",
    "import time\n",
    "import concurrent.futures\n",
    "\n",
    "img_urls = [\n",
    "    'https://images.unsplash.com/photo-1516117172878-fd2c41f4a759',\n",
    "    'https://images.unsplash.com/photo-1532009324734-20a7a5813719',\n",
    "    'https://images.unsplash.com/photo-1524429656589-6633a470097c',\n",
    "    'https://images.unsplash.com/photo-1530224264768-7ff8c1789d79'\n",
    "]\n",
    "\n",
    "t1 = time.perf_counter()\n",
    "\n",
    "\n",
    "def download_image(img_url):\n",
    "    img_bytes = requests.get(img_url).content\n",
    "    img_name = img_url.split('/')[3]\n",
    "    img_name = f'{img_name}.jpg'\n",
    "    with open(img_name, 'wb') as img_file:\n",
    "        img_file.write(img_bytes)\n",
    "        print(f'{img_name} was downloaded...')\n",
    "\n",
    "\n",
    "with concurrent.futures.ThreadPoolExecutor() as executor:\n",
    "    executor.map(download_image, img_urls)\n",
    "\n",
    "\n",
    "t2 = time.perf_counter()\n",
    "\n",
    "print(f'Finished in {t2-t1} seconds')"
   ]
  },
  {
   "cell_type": "code",
   "execution_count": 32,
   "metadata": {},
   "outputs": [
    {
     "name": "stdout",
     "output_type": "stream",
     "text": [
      "photo-1516117172878-fd2c41f4a759.jpg was downloaded...\n",
      "photo-1532009324734-20a7a5813719.jpg was downloaded...\n",
      "photo-1524429656589-6633a470097c.jpg was downloaded...\n",
      "photo-1530224264768-7ff8c1789d79.jpg was downloaded...\n",
      "Finished in 79.03872050000018 seconds\n"
     ]
    }
   ],
   "source": [
    "import requests\n",
    "import time\n",
    "\n",
    "img_urls = [\n",
    "    'https://images.unsplash.com/photo-1516117172878-fd2c41f4a759',\n",
    "    'https://images.unsplash.com/photo-1532009324734-20a7a5813719',\n",
    "    'https://images.unsplash.com/photo-1524429656589-6633a470097c',\n",
    "    'https://images.unsplash.com/photo-1530224264768-7ff8c1789d79'\n",
    "]\n",
    "\n",
    "t1 = time.perf_counter()\n",
    "\n",
    "\n",
    "for img_url in img_urls:\n",
    "    img_bytes = requests.get(img_url).content\n",
    "    img_name = img_url.split('/')[3]\n",
    "    img_name = f'{img_name}.jpg'\n",
    "    with open(img_name, 'wb') as img_file:\n",
    "        img_file.write(img_bytes)\n",
    "        print(f'{img_name} was downloaded...')\n",
    "\n",
    "t2 = time.perf_counter()\n",
    "\n",
    "print(f'Finished in {t2-t1} seconds')"
   ]
  },
  {
   "cell_type": "markdown",
   "metadata": {},
   "source": []
  }
 ],
 "metadata": {
  "interpreter": {
   "hash": "4a20f9aec864725aaab65e871419d99cbd7cf3d5ab0d2e7243b7ef9750fa61ca"
  },
  "kernelspec": {
   "display_name": "Python 3.9.9 64-bit ('pixsy_work': venv)",
   "language": "python",
   "name": "python3"
  },
  "language_info": {
   "codemirror_mode": {
    "name": "ipython",
    "version": 3
   },
   "file_extension": ".py",
   "mimetype": "text/x-python",
   "name": "python",
   "nbconvert_exporter": "python",
   "pygments_lexer": "ipython3",
   "version": "3.9.9"
  },
  "orig_nbformat": 4
 },
 "nbformat": 4,
 "nbformat_minor": 2
}
