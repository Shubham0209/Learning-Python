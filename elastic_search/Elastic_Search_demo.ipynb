{
 "cells": [
  {
   "cell_type": "code",
   "execution_count": 1,
   "metadata": {},
   "outputs": [
    {
     "name": "stdout",
     "output_type": "stream",
     "text": [
      "Imported all modules\n"
     ]
    }
   ],
   "source": [
    "try:\n",
    "    import os\n",
    "    import sys\n",
    "    import elasticsearch\n",
    "    from elasticsearch import Elasticsearch, helpers\n",
    "    import pandas as pd\n",
    "    import json\n",
    "    import os\n",
    "    import sys\n",
    "    import datetime\n",
    "    from ast import literal_eval\n",
    "    from tqdm import tqdm\n",
    "    import numpy as np\n",
    "    \n",
    "    print('Imported all modules')\n",
    "    \n",
    "except Exception as e:\n",
    "    print('Modules missing {}'.format(e))"
   ]
  },
  {
   "cell_type": "code",
   "execution_count": 2,
   "metadata": {},
   "outputs": [],
   "source": [
    "def connect_elasticsearch():\n",
    "    es = None\n",
    "    es = Elasticsearch([{'host': 'localhost', 'port': 9200}])\n",
    "    if es.ping():\n",
    "        print('Yupiee  Connected ')\n",
    "    else:\n",
    "        print('Awww it could not connect!')\n",
    "    return es\n",
    "es = connect_elasticsearch()"
   ]
  },
  {
   "cell_type": "markdown",
   "metadata": {},
   "source": [
    "# Create index"
   ]
  },
  {
   "cell_type": "code",
   "execution_count": 5,
   "metadata": {},
   "outputs": [
    {
     "data": {
      "text/plain": [
       "{'acknowledged': True, 'shards_acknowledged': True, 'index': 'my-food'}"
      ]
     },
     "execution_count": 5,
     "metadata": {},
     "output_type": "execute_result"
    }
   ],
   "source": [
    "es.indices.create(index = 'my-food',ignore=400)"
   ]
  },
  {
   "cell_type": "code",
   "execution_count": 6,
   "metadata": {},
   "outputs": [
    {
     "name": "stdout",
     "output_type": "stream",
     "text": [
      ".kibana-event-log-7.16.0-000001\n",
      "favorite_candy\n",
      ".apm-agent-configuration\n",
      ".kibana_task_manager_7.16.0_001\n",
      ".kibana_7.16.0_001\n",
      "my-food\n",
      ".apm-custom-link\n",
      ".tasks\n"
     ]
    },
    {
     "name": "stderr",
     "output_type": "stream",
     "text": [
      "C:\\Users\\shubh\\anaconda3\\lib\\site-packages\\elasticsearch\\connection\\base.py:200: ElasticsearchWarning: this request accesses system indices: [.apm-agent-configuration, .kibana_task_manager_7.16.0_001, .kibana_7.16.0_001, .apm-custom-link, .tasks], but in a future major version, direct access to system indices will be prevented by default\n",
      "  warnings.warn(message, category=ElasticsearchWarning)\n"
     ]
    }
   ],
   "source": [
    "res = es.indices.get_alias('*')\n",
    "for name in res:\n",
    "    print(name)"
   ]
  },
  {
   "cell_type": "markdown",
   "metadata": {},
   "source": [
    "# Delete index"
   ]
  },
  {
   "cell_type": "code",
   "execution_count": 7,
   "metadata": {},
   "outputs": [
    {
     "data": {
      "text/plain": [
       "{'acknowledged': True}"
      ]
     },
     "execution_count": 7,
     "metadata": {},
     "output_type": "execute_result"
    }
   ],
   "source": [
    "es.indices.delete(index = 'my-food',ignore=400)"
   ]
  },
  {
   "cell_type": "code",
   "execution_count": null,
   "metadata": {},
   "outputs": [],
   "source": [
    "#delete all indices\n",
    "indices=es.indices.get_alias().keys()\n",
    "\n",
    "for Name in indices:\n",
    "    print(\"Deleted {} \".format(Name))\n",
    "    es.indices.delete(index=Name, ignore=[400, 404])"
   ]
  },
  {
   "cell_type": "code",
   "execution_count": 8,
   "metadata": {},
   "outputs": [
    {
     "name": "stdout",
     "output_type": "stream",
     "text": [
      ".kibana_task_manager_7.16.0_001\n",
      ".kibana_7.16.0_001\n",
      ".tasks\n",
      ".apm-agent-configuration\n",
      ".apm-custom-link\n",
      "favorite_candy\n",
      ".kibana-event-log-7.16.0-000001\n"
     ]
    },
    {
     "name": "stderr",
     "output_type": "stream",
     "text": [
      "C:\\Users\\shubh\\anaconda3\\lib\\site-packages\\elasticsearch\\connection\\base.py:200: ElasticsearchWarning: this request accesses system indices: [.kibana_task_manager_7.16.0_001, .kibana_7.16.0_001, .tasks, .apm-agent-configuration, .apm-custom-link], but in a future major version, direct access to system indices will be prevented by default\n",
      "  warnings.warn(message, category=ElasticsearchWarning)\n"
     ]
    }
   ],
   "source": [
    "res = es.indices.get_alias('*')\n",
    "for name in res:\n",
    "    print(name)"
   ]
  },
  {
   "cell_type": "markdown",
   "metadata": {},
   "source": [
    "# Upload 2 sample json docs"
   ]
  },
  {
   "cell_type": "code",
   "execution_count": 10,
   "metadata": {},
   "outputs": [],
   "source": [
    "e1 = {\n",
    "    'first name': 'Shubham',\n",
    "    'last name' : 'Singh',\n",
    "    'about' : 'Data Scientist',\n",
    "    'interest' : ['creating content','movies'],\n",
    "}\n",
    "\n",
    "e2 = {\n",
    "    'first name': 'Shivam',\n",
    "    'last name' : 'Singh',\n",
    "    'about' : 'Cloud engineer',\n",
    "    'interest' : ['Dance','music'],\n",
    "}"
   ]
  },
  {
   "cell_type": "code",
   "execution_count": 11,
   "metadata": {},
   "outputs": [
    {
     "data": {
      "text/plain": [
       "{'acknowledged': True, 'shards_acknowledged': True, 'index': 'person'}"
      ]
     },
     "execution_count": 11,
     "metadata": {},
     "output_type": "execute_result"
    }
   ],
   "source": [
    "es.indices.create(index = 'person',ignore=400)"
   ]
  },
  {
   "cell_type": "code",
   "execution_count": 12,
   "metadata": {},
   "outputs": [
    {
     "name": "stderr",
     "output_type": "stream",
     "text": [
      "C:\\Users\\shubh\\anaconda3\\lib\\site-packages\\elasticsearch\\connection\\base.py:200: ElasticsearchWarning: Elasticsearch built-in security features are not enabled. Without authentication, your cluster could be accessible to anyone. See https://www.elastic.co/guide/en/elasticsearch/reference/7.16/security-minimal-setup.html to enable security.\n",
      "  warnings.warn(message, category=ElasticsearchWarning)\n",
      "C:\\Users\\shubh\\anaconda3\\lib\\site-packages\\elasticsearch\\connection\\base.py:200: ElasticsearchWarning: [types removal] Specifying types in document index requests is deprecated, use the typeless endpoints instead (/{index}/_doc/{id}, /{index}/_doc, or /{index}/_create/{id}).\n",
      "  warnings.warn(message, category=ElasticsearchWarning)\n"
     ]
    }
   ],
   "source": [
    "#send doc to elastic serach\n",
    "res1 = es.index(index='person', doc_type='people',body=e1,id=1)"
   ]
  },
  {
   "cell_type": "code",
   "execution_count": 13,
   "metadata": {},
   "outputs": [
    {
     "data": {
      "text/plain": [
       "{'.kibana_task_manager_7.16.0_001': {'aliases': {'.kibana_task_manager': {},\n",
       "   '.kibana_task_manager_7.16.0': {}}},\n",
       " '.kibana_7.16.0_001': {'aliases': {'.kibana': {}, '.kibana_7.16.0': {}}},\n",
       " '.tasks': {'aliases': {}},\n",
       " '.apm-agent-configuration': {'aliases': {}},\n",
       " '.apm-custom-link': {'aliases': {}},\n",
       " 'favorite_candy': {'aliases': {}},\n",
       " '.kibana-event-log-7.16.0-000001': {'aliases': {'.kibana-event-log-7.16.0': {'is_write_index': True,\n",
       "    'is_hidden': True}}}}"
      ]
     },
     "execution_count": 13,
     "metadata": {},
     "output_type": "execute_result"
    }
   ],
   "source": [
    "res"
   ]
  },
  {
   "cell_type": "code",
   "execution_count": 14,
   "metadata": {},
   "outputs": [],
   "source": [
    "res2 = es.index(index='person', doc_type='people',body=e2,id=2)"
   ]
  },
  {
   "cell_type": "code",
   "execution_count": null,
   "metadata": {},
   "outputs": [],
   "source": []
  },
  {
   "cell_type": "markdown",
   "metadata": {},
   "source": [
    "# Adding document"
   ]
  },
  {
   "cell_type": "code",
   "execution_count": 2,
   "metadata": {},
   "outputs": [],
   "source": [
    "df=pd.read_csv('netflix_titles.csv')"
   ]
  },
  {
   "cell_type": "code",
   "execution_count": 3,
   "metadata": {},
   "outputs": [
    {
     "data": {
      "text/html": [
       "<div>\n",
       "<style scoped>\n",
       "    .dataframe tbody tr th:only-of-type {\n",
       "        vertical-align: middle;\n",
       "    }\n",
       "\n",
       "    .dataframe tbody tr th {\n",
       "        vertical-align: top;\n",
       "    }\n",
       "\n",
       "    .dataframe thead th {\n",
       "        text-align: right;\n",
       "    }\n",
       "</style>\n",
       "<table border=\"1\" class=\"dataframe\">\n",
       "  <thead>\n",
       "    <tr style=\"text-align: right;\">\n",
       "      <th></th>\n",
       "      <th>show_id</th>\n",
       "      <th>type</th>\n",
       "      <th>title</th>\n",
       "      <th>director</th>\n",
       "      <th>cast</th>\n",
       "      <th>country</th>\n",
       "      <th>date_added</th>\n",
       "      <th>release_year</th>\n",
       "      <th>rating</th>\n",
       "      <th>duration</th>\n",
       "      <th>listed_in</th>\n",
       "      <th>description</th>\n",
       "    </tr>\n",
       "  </thead>\n",
       "  <tbody>\n",
       "    <tr>\n",
       "      <th>0</th>\n",
       "      <td>s1</td>\n",
       "      <td>Movie</td>\n",
       "      <td>Dick Johnson Is Dead</td>\n",
       "      <td>Kirsten Johnson</td>\n",
       "      <td>NaN</td>\n",
       "      <td>United States</td>\n",
       "      <td>September 25, 2021</td>\n",
       "      <td>2020</td>\n",
       "      <td>PG-13</td>\n",
       "      <td>90 min</td>\n",
       "      <td>Documentaries</td>\n",
       "      <td>As her father nears the end of his life, filmm...</td>\n",
       "    </tr>\n",
       "    <tr>\n",
       "      <th>1</th>\n",
       "      <td>s2</td>\n",
       "      <td>TV Show</td>\n",
       "      <td>Blood &amp; Water</td>\n",
       "      <td>NaN</td>\n",
       "      <td>Ama Qamata, Khosi Ngema, Gail Mabalane, Thaban...</td>\n",
       "      <td>South Africa</td>\n",
       "      <td>September 24, 2021</td>\n",
       "      <td>2021</td>\n",
       "      <td>TV-MA</td>\n",
       "      <td>2 Seasons</td>\n",
       "      <td>International TV Shows, TV Dramas, TV Mysteries</td>\n",
       "      <td>After crossing paths at a party, a Cape Town t...</td>\n",
       "    </tr>\n",
       "    <tr>\n",
       "      <th>2</th>\n",
       "      <td>s3</td>\n",
       "      <td>TV Show</td>\n",
       "      <td>Ganglands</td>\n",
       "      <td>Julien Leclercq</td>\n",
       "      <td>Sami Bouajila, Tracy Gotoas, Samuel Jouy, Nabi...</td>\n",
       "      <td>NaN</td>\n",
       "      <td>September 24, 2021</td>\n",
       "      <td>2021</td>\n",
       "      <td>TV-MA</td>\n",
       "      <td>1 Season</td>\n",
       "      <td>Crime TV Shows, International TV Shows, TV Act...</td>\n",
       "      <td>To protect his family from a powerful drug lor...</td>\n",
       "    </tr>\n",
       "    <tr>\n",
       "      <th>3</th>\n",
       "      <td>s4</td>\n",
       "      <td>TV Show</td>\n",
       "      <td>Jailbirds New Orleans</td>\n",
       "      <td>NaN</td>\n",
       "      <td>NaN</td>\n",
       "      <td>NaN</td>\n",
       "      <td>September 24, 2021</td>\n",
       "      <td>2021</td>\n",
       "      <td>TV-MA</td>\n",
       "      <td>1 Season</td>\n",
       "      <td>Docuseries, Reality TV</td>\n",
       "      <td>Feuds, flirtations and toilet talk go down amo...</td>\n",
       "    </tr>\n",
       "    <tr>\n",
       "      <th>4</th>\n",
       "      <td>s5</td>\n",
       "      <td>TV Show</td>\n",
       "      <td>Kota Factory</td>\n",
       "      <td>NaN</td>\n",
       "      <td>Mayur More, Jitendra Kumar, Ranjan Raj, Alam K...</td>\n",
       "      <td>India</td>\n",
       "      <td>September 24, 2021</td>\n",
       "      <td>2021</td>\n",
       "      <td>TV-MA</td>\n",
       "      <td>2 Seasons</td>\n",
       "      <td>International TV Shows, Romantic TV Shows, TV ...</td>\n",
       "      <td>In a city of coaching centers known to train I...</td>\n",
       "    </tr>\n",
       "  </tbody>\n",
       "</table>\n",
       "</div>"
      ],
      "text/plain": [
       "  show_id     type                  title         director  \\\n",
       "0      s1    Movie   Dick Johnson Is Dead  Kirsten Johnson   \n",
       "1      s2  TV Show          Blood & Water              NaN   \n",
       "2      s3  TV Show              Ganglands  Julien Leclercq   \n",
       "3      s4  TV Show  Jailbirds New Orleans              NaN   \n",
       "4      s5  TV Show           Kota Factory              NaN   \n",
       "\n",
       "                                                cast        country  \\\n",
       "0                                                NaN  United States   \n",
       "1  Ama Qamata, Khosi Ngema, Gail Mabalane, Thaban...   South Africa   \n",
       "2  Sami Bouajila, Tracy Gotoas, Samuel Jouy, Nabi...            NaN   \n",
       "3                                                NaN            NaN   \n",
       "4  Mayur More, Jitendra Kumar, Ranjan Raj, Alam K...          India   \n",
       "\n",
       "           date_added  release_year rating   duration  \\\n",
       "0  September 25, 2021          2020  PG-13     90 min   \n",
       "1  September 24, 2021          2021  TV-MA  2 Seasons   \n",
       "2  September 24, 2021          2021  TV-MA   1 Season   \n",
       "3  September 24, 2021          2021  TV-MA   1 Season   \n",
       "4  September 24, 2021          2021  TV-MA  2 Seasons   \n",
       "\n",
       "                                           listed_in  \\\n",
       "0                                      Documentaries   \n",
       "1    International TV Shows, TV Dramas, TV Mysteries   \n",
       "2  Crime TV Shows, International TV Shows, TV Act...   \n",
       "3                             Docuseries, Reality TV   \n",
       "4  International TV Shows, Romantic TV Shows, TV ...   \n",
       "\n",
       "                                         description  \n",
       "0  As her father nears the end of his life, filmm...  \n",
       "1  After crossing paths at a party, a Cape Town t...  \n",
       "2  To protect his family from a powerful drug lor...  \n",
       "3  Feuds, flirtations and toilet talk go down amo...  \n",
       "4  In a city of coaching centers known to train I...  "
      ]
     },
     "execution_count": 3,
     "metadata": {},
     "output_type": "execute_result"
    }
   ],
   "source": [
    "df.head()"
   ]
  },
  {
   "cell_type": "code",
   "execution_count": 4,
   "metadata": {},
   "outputs": [
    {
     "data": {
      "text/plain": [
       "Index(['show_id', 'type', 'title', 'director', 'cast', 'country', 'date_added',\n",
       "       'release_year', 'rating', 'duration', 'listed_in', 'description'],\n",
       "      dtype='object')"
      ]
     },
     "execution_count": 4,
     "metadata": {},
     "output_type": "execute_result"
    }
   ],
   "source": [
    "df.columns"
   ]
  },
  {
   "cell_type": "code",
   "execution_count": 5,
   "metadata": {},
   "outputs": [],
   "source": [
    "#create an elastic search instance and connect it to the server\n",
    "ENDPOINT = 'http://localhost:9200/'\n",
    "es=Elasticsearch(timeout=600,hosts=ENDPOINT)"
   ]
  },
  {
   "cell_type": "code",
   "execution_count": 8,
   "metadata": {},
   "outputs": [
    {
     "name": "stderr",
     "output_type": "stream",
     "text": [
      "C:\\Users\\shubh\\anaconda3\\lib\\site-packages\\elasticsearch\\connection\\base.py:200: ElasticsearchWarning: Elasticsearch built-in security features are not enabled. Without authentication, your cluster could be accessible to anyone. See https://www.elastic.co/guide/en/elasticsearch/reference/7.16/security-minimal-setup.html to enable security.\n",
      "  warnings.warn(message, category=ElasticsearchWarning)\n"
     ]
    },
    {
     "data": {
      "text/plain": [
       "True"
      ]
     },
     "execution_count": 8,
     "metadata": {},
     "output_type": "execute_result"
    }
   ],
   "source": [
    "es.ping()"
   ]
  },
  {
   "cell_type": "code",
   "execution_count": 9,
   "metadata": {},
   "outputs": [
    {
     "data": {
      "text/plain": [
       "show_id            0\n",
       "type               0\n",
       "title              0\n",
       "director        2634\n",
       "cast             825\n",
       "country          831\n",
       "date_added        10\n",
       "release_year       0\n",
       "rating             4\n",
       "duration           3\n",
       "listed_in          0\n",
       "description        0\n",
       "dtype: int64"
      ]
     },
     "execution_count": 9,
     "metadata": {},
     "output_type": "execute_result"
    }
   ],
   "source": [
    "df.isna().sum()"
   ]
  },
  {
   "cell_type": "code",
   "execution_count": 10,
   "metadata": {},
   "outputs": [],
   "source": [
    "df=df.dropna()"
   ]
  },
  {
   "cell_type": "code",
   "execution_count": 11,
   "metadata": {},
   "outputs": [
    {
     "data": {
      "text/plain": [
       "show_id         0\n",
       "type            0\n",
       "title           0\n",
       "director        0\n",
       "cast            0\n",
       "country         0\n",
       "date_added      0\n",
       "release_year    0\n",
       "rating          0\n",
       "duration        0\n",
       "listed_in       0\n",
       "description     0\n",
       "dtype: int64"
      ]
     },
     "execution_count": 11,
     "metadata": {},
     "output_type": "execute_result"
    }
   ],
   "source": [
    "df.isna().sum()"
   ]
  },
  {
   "cell_type": "code",
   "execution_count": 12,
   "metadata": {},
   "outputs": [
    {
     "data": {
      "text/plain": [
       "(5332, 12)"
      ]
     },
     "execution_count": 12,
     "metadata": {},
     "output_type": "execute_result"
    }
   ],
   "source": [
    "df.shape"
   ]
  },
  {
   "cell_type": "code",
   "execution_count": 13,
   "metadata": {},
   "outputs": [],
   "source": [
    "#convert data into appropriate format\n",
    "df2=df.to_dict('records')"
   ]
  },
  {
   "cell_type": "code",
   "execution_count": 14,
   "metadata": {},
   "outputs": [
    {
     "data": {
      "text/plain": [
       "{'show_id': 's8',\n",
       " 'type': 'Movie',\n",
       " 'title': 'Sankofa',\n",
       " 'director': 'Haile Gerima',\n",
       " 'cast': 'Kofi Ghanaba, Oyafunmike Ogunlano, Alexandra Duah, Nick Medley, Mutabaruka, Afemo Omilami, Reggie Carter, Mzuri',\n",
       " 'country': 'United States, Ghana, Burkina Faso, United Kingdom, Germany, Ethiopia',\n",
       " 'date_added': 'September 24, 2021',\n",
       " 'release_year': 1993,\n",
       " 'rating': 'TV-MA',\n",
       " 'duration': '125 min',\n",
       " 'listed_in': 'Dramas, Independent Movies, International Movies',\n",
       " 'description': 'On a photo shoot in Ghana, an American model slips back in time, becomes enslaved on a plantation and bears witness to the agony of her ancestral past.'}"
      ]
     },
     "execution_count": 14,
     "metadata": {},
     "output_type": "execute_result"
    }
   ],
   "source": [
    "df2[0]"
   ]
  },
  {
   "cell_type": "markdown",
   "metadata": {},
   "source": [
    "# convert data into ELK format"
   ]
  },
  {
   "cell_type": "code",
   "execution_count": 15,
   "metadata": {},
   "outputs": [],
   "source": [
    "def generator(df2):\n",
    "    for c, line in enumerate(df2):\n",
    "        try:\n",
    "            yield {\n",
    "                '_index': 'elkdemo',\n",
    "                '_type' :'_doc',\n",
    "                '_id' :line.get('show_id', None),\n",
    "                '_source' : {\n",
    "                    'title' : line.get('title', ''),\n",
    "                    'director' : line.get('director', ''),\n",
    "                    'description' : line.get('description', ''),\n",
    "                    'duration' : line.get('duration', None),\n",
    "                    'cast':line.get('cast', None)\n",
    "\n",
    "                }\n",
    "            }\n",
    "        except StopIteration:\n",
    "            return\n",
    "    "
   ]
  },
  {
   "cell_type": "code",
   "execution_count": 16,
   "metadata": {},
   "outputs": [],
   "source": [
    "mycustom=generator(df2)"
   ]
  },
  {
   "cell_type": "code",
   "execution_count": 17,
   "metadata": {},
   "outputs": [
    {
     "data": {
      "text/plain": [
       "{'_index': 'elkdemo',\n",
       " '_type': '_doc',\n",
       " '_id': 's8',\n",
       " '_source': {'title': 'Sankofa',\n",
       "  'director': 'Haile Gerima',\n",
       "  'description': 'On a photo shoot in Ghana, an American model slips back in time, becomes enslaved on a plantation and bears witness to the agony of her ancestral past.',\n",
       "  'duration': '125 min',\n",
       "  'cast': 'Kofi Ghanaba, Oyafunmike Ogunlano, Alexandra Duah, Nick Medley, Mutabaruka, Afemo Omilami, Reggie Carter, Mzuri'}}"
      ]
     },
     "execution_count": 17,
     "metadata": {},
     "output_type": "execute_result"
    }
   ],
   "source": [
    "next(mycustom)"
   ]
  },
  {
   "cell_type": "markdown",
   "metadata": {},
   "source": [
    "# Mappings(defining datatypes explicitly for the fields/columns) or Settings\n",
    "By default, every string gets mapped twice as a text field and as a keyword multi-field. Each field type is primed for different types of requests.\n",
    "\n",
    "- Text field type is designed for full-text searches.\n",
    "\n",
    "- Keywordfield type is designed for exact searches, aggregations, and sorting.\n",
    "\n",
    "SO use mapping to identify the exact type and use-case of each so that each string isn't indexed twice\n",
    "\n",
    "Ever notice that when you search in Elasticsearch, it is not case sensitive or punctuation does not seem to matter? This is because text analysis occurs when your fields are indexed.\n",
    "\n",
    "By default, strings are analyzed when it is indexed. The string is broken up into individual words also known as tokens. The analyzer further lowercases each token and removes punctuations.\n",
    "\n",
    "- Remember, you CANNOT change the mapping of an existing field. If you do need to make changes to an existing field, you must create a new index with the desired mapping, then reindex all documents into the new index."
   ]
  },
  {
   "cell_type": "code",
   "execution_count": 22,
   "metadata": {},
   "outputs": [],
   "source": [
    "#if we don't define a datatype elastic search comes up with its own type\n",
    "Settings ={\n",
    "    'settings':{\n",
    "        'number_of_shards':1,\n",
    "        'number_of_replicas':0\n",
    "    },\n",
    "    'mappings':{\n",
    "        'properties':{\n",
    "            'director':{\n",
    "                'type':'text'\n",
    "            },\n",
    "            'duration':{\n",
    "                    'type':'text'\n",
    "                }\n",
    "            }\n",
    "        }\n",
    "    }"
   ]
  },
  {
   "cell_type": "code",
   "execution_count": 23,
   "metadata": {},
   "outputs": [
    {
     "data": {
      "text/plain": [
       "{'acknowledged': True, 'shards_acknowledged': True, 'index': 'elkdemo'}"
      ]
     },
     "execution_count": 23,
     "metadata": {},
     "output_type": "execute_result"
    }
   ],
   "source": [
    "IndexName='elkdemo'\n",
    "my=es.indices.create(index=IndexName, ignore=[400,404], body=Settings)\n",
    "my"
   ]
  },
  {
   "cell_type": "markdown",
   "metadata": {},
   "source": [
    "# Upload document and delete any existing indices"
   ]
  },
  {
   "cell_type": "code",
   "execution_count": 24,
   "metadata": {},
   "outputs": [
    {
     "name": "stdout",
     "output_type": "stream",
     "text": [
      "Working\n"
     ]
    }
   ],
   "source": [
    "try:\n",
    "    res = helpers.bulk(es,generator(df2))\n",
    "    print('Working')\n",
    "except Exception as e:\n",
    "    pass"
   ]
  },
  {
   "cell_type": "code",
   "execution_count": null,
   "metadata": {},
   "outputs": [],
   "source": []
  },
  {
   "cell_type": "markdown",
   "metadata": {},
   "source": [
    "# Running queries (below queries are to be run on http://localhost:5601/app/dev_tools#/console"
   ]
  },
  {
   "cell_type": "code",
   "execution_count": 25,
   "metadata": {},
   "outputs": [
    {
     "data": {
      "text/plain": [
       "'GET elkdemo/_search - prints all documents and shown below is one of the records\\n\\n      {\\n        \"_index\" : \"elkdemo\",\\n        \"_type\" : \"_doc\",\\n        \"_id\" : \"s10\",\\n        \"_score\" : 1.0,\\n        \"_source\" : {\\n          \"title\" : \"The Starling\",\\n          \"director\" : \"Theodore Melfi\",\\n          \"description\" : \"A woman adjusting to life after a loss contends with a feisty bird that\\'s taken over her garden — and a husband who\\'s struggling to find a way forward.\",\\n          \"duration\" : \"104 min\",\\n          \"cast\" : \"Melissa McCarthy, Chris O\\'Dowd, Kevin Kline, Timothy Olyphant, Daveed Diggs, Skyler Gisondo, Laura Harrier, Rosalind Chao, Kimberly Quinn, Loretta Devine, Ravi Kapoor\"\\n        }\\n      }\\n      \\n      ### return just the title and cast\\n      GET elkdemo/_search\\n{\\n  \"_source\": [\"title\",\\'cast\\']\\n}\\n\\n'"
      ]
     },
     "execution_count": 25,
     "metadata": {},
     "output_type": "execute_result"
    }
   ],
   "source": [
    "'''GET elkdemo/_search - prints all documents and shown below is one of the records\n",
    "\n",
    "      {\n",
    "        \"_index\" : \"elkdemo\",\n",
    "        \"_type\" : \"_doc\",\n",
    "        \"_id\" : \"s10\",\n",
    "        \"_score\" : 1.0,\n",
    "        \"_source\" : {\n",
    "          \"title\" : \"The Starling\",\n",
    "          \"director\" : \"Theodore Melfi\",\n",
    "          \"description\" : \"A woman adjusting to life after a loss contends with a feisty bird that's taken over her garden — and a husband who's struggling to find a way forward.\",\n",
    "          \"duration\" : \"104 min\",\n",
    "          \"cast\" : \"Melissa McCarthy, Chris O'Dowd, Kevin Kline, Timothy Olyphant, Daveed Diggs, Skyler Gisondo, Laura Harrier, Rosalind Chao, Kimberly Quinn, Loretta Devine, Ravi Kapoor\"\n",
    "        }\n",
    "      }\n",
    "      \n",
    "      ### return just the title and cast\n",
    "      GET elkdemo/_search\n",
    "{\n",
    "  \"_source\": [\"title\",'cast']\n",
    "}\n",
    "\n",
    "'''"
   ]
  },
  {
   "cell_type": "code",
   "execution_count": 26,
   "metadata": {},
   "outputs": [
    {
     "ename": "SyntaxError",
     "evalue": "invalid syntax (<ipython-input-26-cba0ba0ce544>, line 1)",
     "output_type": "error",
     "traceback": [
      "\u001b[1;36m  File \u001b[1;32m\"<ipython-input-26-cba0ba0ce544>\"\u001b[1;36m, line \u001b[1;32m1\u001b[0m\n\u001b[1;33m    GET elkdemo/_search\u001b[0m\n\u001b[1;37m        ^\u001b[0m\n\u001b[1;31mSyntaxError\u001b[0m\u001b[1;31m:\u001b[0m invalid syntax\n"
     ]
    }
   ],
   "source": [
    "GET elkdemo/_search\n",
    "{\n",
    "  \"_source\": [\"title\"]\n",
    "}"
   ]
  },
  {
   "cell_type": "code",
   "execution_count": null,
   "metadata": {},
   "outputs": [],
   "source": [
    "# Find the exact match i.e all words and in same order\n",
    "GET elkdemo/_search\n",
    "{\n",
    "  \"_source\": [\"title\",\"cast\",\"director\"],\n",
    "  \"size\": 20,\n",
    "  \"query\": {\n",
    "    \"match_phrase\": {\n",
    "      \"title\": \"Norm of the North\"\n",
    "    }\n",
    "  }\n",
    "}"
   ]
  },
  {
   "cell_type": "code",
   "execution_count": null,
   "metadata": {},
   "outputs": [],
   "source": [
    "# Perform tokenization and check is entire string (Norm of the North) or substrings (Norm, the North, North, of etc) exist\n",
    "\n",
    "GET elkdemo/_search\n",
    "{\n",
    "  \"_source\": [\"title\",\"cast\",\"director\"],\n",
    "  \"size\": 20,\n",
    "  \"query\": {\n",
    "    \"match\": {\n",
    "      \"title\": \"Norm of the North\"\n",
    "    }\n",
    "  }\n",
    "}"
   ]
  },
  {
   "cell_type": "code",
   "execution_count": null,
   "metadata": {},
   "outputs": [],
   "source": [
    "# Aggregation - count the number of occurences of each cast\n",
    "\n",
    "GET elkdemo/_search\n",
    "{\n",
    "  \"size\": 0,\n",
    "  \"aggs\": {\n",
    "    \"cast_name\": {\n",
    "      \"terms\": {\n",
    "        \"field\": \"cast.keyword\",\n",
    "        \"size\": 10,\n",
    "        \"order\": {\n",
    "          \"_count\": \"desc\"\n",
    "        }\n",
    "      }\n",
    "    }\n",
    "  }\n",
    "  \n",
    "}\n",
    "\n",
    "##Multiple aggregation\n",
    "\n",
    "GET elkdemo/_search\n",
    "{\n",
    "  \"size\": 0,\n",
    "  \"aggs\": {\n",
    "    \"description\": { #name of the aggregation\n",
    "      \"terms\": {\n",
    "        \"field\": \"description.keyword\",\n",
    "        \"size\": 10,\n",
    "        \"order\": {\n",
    "          \"_count\": \"desc\"\n",
    "        }\n",
    "      }\n",
    "    },\n",
    "    \n",
    "      \"cast_name\": {\n",
    "      \"terms\": {\n",
    "        \"field\": \"cast.keyword\",\n",
    "        \"size\": 10,\n",
    "        \"order\": {\n",
    "          \"_count\": \"desc\"\n",
    "        }\n",
    "      }\n",
    "    }\n",
    "  }\n",
    "  \n",
    "}"
   ]
  },
  {
   "cell_type": "code",
   "execution_count": null,
   "metadata": {},
   "outputs": [],
   "source": [
    "# Boolean Search - paste the below cell data within any of the []\n",
    "GET elkdemo/_search\n",
    "{\n",
    "  \"size\": 20,\n",
    "  \"query\": {\n",
    "    \"bool\": {\n",
    "      \"must\": [], -> must contain both the terms i.e north and king\n",
    "      \"must_not\": [], -> must not contain either of the terms mentioned i.e neither north nor king\n",
    "      \"filter\": [], -> These place documents in either yes or no category. Ones that fall into the yes category are included in the hits.\n",
    "      \"should\": [] -> does not have to match north or king. However, it if it does match, this document is given a higher score.\n",
    "    }\n",
    "  }\n",
    "}"
   ]
  },
  {
   "cell_type": "code",
   "execution_count": null,
   "metadata": {},
   "outputs": [],
   "source": [
    "{\n",
    "        \"match\": {\n",
    "          \"title\": {\n",
    "            \"query\": \"North\"\n",
    "          }\n",
    "        }\n",
    "      },\n",
    "      {\n",
    "        \"match\": {\n",
    "          \"title\": {\n",
    "            \"query\": \"King\"\n",
    "          }\n",
    "        }\n",
    "      }"
   ]
  },
  {
   "cell_type": "code",
   "execution_count": null,
   "metadata": {},
   "outputs": [],
   "source": [
    "# String query- i.e search for documents containing north or king\n",
    "\n",
    "GET elkdemo/_search\n",
    "{\n",
    "  \"query\": {\n",
    "    \"query_string\": {\n",
    "      \"query\": \"(north) OR (king)\",\n",
    "      \"default_field\": \"title\"\n",
    "    }\n",
    "  }\n",
    "}"
   ]
  },
  {
   "cell_type": "code",
   "execution_count": null,
   "metadata": {},
   "outputs": [],
   "source": []
  },
  {
   "cell_type": "code",
   "execution_count": null,
   "metadata": {},
   "outputs": [],
   "source": []
  },
  {
   "cell_type": "markdown",
   "metadata": {},
   "source": [
    "# 2 Ways to do Pagination or scrolling in Elastic Search"
   ]
  },
  {
   "cell_type": "markdown",
   "metadata": {},
   "source": [
    "## Method 1"
   ]
  },
  {
   "cell_type": "code",
   "execution_count": 27,
   "metadata": {},
   "outputs": [
    {
     "name": "stdout",
     "output_type": "stream",
     "text": [
      "All Modules Loaded ! \n"
     ]
    }
   ],
   "source": [
    "try:\n",
    "    import os\n",
    "    import sys\n",
    "    \n",
    "    import elasticsearch\n",
    "    from elasticsearch import Elasticsearch \n",
    "    import pandas as pd\n",
    "    \n",
    "    print(\"All Modules Loaded ! \")\n",
    "except Exception as e:\n",
    "    print(\"Some Modules are Missing {}\".format(e))\n",
    "    "
   ]
  },
  {
   "cell_type": "code",
   "execution_count": 28,
   "metadata": {},
   "outputs": [
    {
     "name": "stdout",
     "output_type": "stream",
     "text": [
      "Yupiee  Connected \n"
     ]
    }
   ],
   "source": [
    "def connect_elasticsearch():\n",
    "    es = None\n",
    "    es = Elasticsearch([{'host': 'localhost', 'port': 9200}])\n",
    "    if es.ping():\n",
    "        print('Yupiee  Connected ')\n",
    "    else:\n",
    "        print('Awww it could not connect!')\n",
    "    return es\n",
    "es = connect_elasticsearch()"
   ]
  },
  {
   "cell_type": "code",
   "execution_count": 49,
   "metadata": {},
   "outputs": [],
   "source": [
    "myquey = {\n",
    "   \"_source\": [],\n",
    "   \"size\": 10,\n",
    "   \"query\": {\n",
    "      \"bool\": {\n",
    "         \"must\": [],\n",
    "         \"filter\": [\n",
    "            {\n",
    "               \"exists\": {\n",
    "                  \"field\": \"director\"\n",
    "               }\n",
    "            }\n",
    "         ],\n",
    "         \"should\": [\n",
    "            {\n",
    "               \"match_phrase\": {\n",
    "                  \"director\": \"Richard \"\n",
    "               }\n",
    "            }\n",
    "         ],\n",
    "         \"must_not\": []\n",
    "      }\n",
    "   }\n",
    "}"
   ]
  },
  {
   "cell_type": "code",
   "execution_count": 50,
   "metadata": {},
   "outputs": [],
   "source": [
    "res = es.search(\n",
    "  index = 'elkdemo', #name of the index name\n",
    "  scroll = '2m', #How long you want the scroll to stay in his case 2m\n",
    "  size = 10, #How many records you need in each cycle\n",
    "  body = myquey)"
   ]
  },
  {
   "cell_type": "code",
   "execution_count": 51,
   "metadata": {},
   "outputs": [
    {
     "data": {
      "text/plain": [
       "{'_scroll_id': 'FGluY2x1ZGVfY29udGV4dF91dWlkDXF1ZXJ5QW5kRmV0Y2gBFlBKTDhDQWVhU2JlRDB0RENGeXpDcFEAAAAAAAATxxZBNUZBTDVQY1NjV3pXTTlVbUdZY0NR',\n",
       " 'took': 2,\n",
       " 'timed_out': False,\n",
       " '_shards': {'total': 1, 'successful': 1, 'skipped': 0, 'failed': 0},\n",
       " 'hits': {'total': {'value': 5332, 'relation': 'eq'},\n",
       "  'max_score': 5.462355,\n",
       "  'hits': [{'_index': 'elkdemo',\n",
       "    '_type': '_doc',\n",
       "    '_id': 's143',\n",
       "    '_score': 5.462355,\n",
       "    '_source': {'title': 'Freedom Writers',\n",
       "     'director': 'Richard LaGravenese',\n",
       "     'description': 'While her at-risk students are reading classics such as \"The Diary of Anne Frank,\" a teacher asks them to keep journals about their troubled lives.',\n",
       "     'duration': '124 min',\n",
       "     'cast': 'Hilary Swank, Patrick Dempsey, Scott Glenn, Imelda Staunton, April L. Hernandez, Mario, Kristin Herrera, Jaclyn Ngan, Sergio Montalvo, Jason Finn, Deance Wyatt, Vanetta Smith'}},\n",
       "   {'_index': 'elkdemo',\n",
       "    '_type': '_doc',\n",
       "    '_id': 's173',\n",
       "    '_score': 5.462355,\n",
       "    '_source': {'title': 'School of Rock',\n",
       "     'director': 'Richard Linklater',\n",
       "     'description': \"Musician Dewey Finn gets a job as a fourth-grade substitute teacher, where he secretly begins teaching his students the finer points of rock 'n' roll.\",\n",
       "     'duration': '110 min',\n",
       "     'cast': 'Jack Black, Joan Cusack, Mike White, Sarah Silverman, Lee Wilkof, Kate McGregor-Stewart, Adam Pascal, Suzzanne Douglas, Miranda Cosgrove, Kevin Alexander Clark, Joey Gaydos Jr., Robert Tsai, Veronica Afflerbach, Jordan-Claire Green'}},\n",
       "   {'_index': 'elkdemo',\n",
       "    '_type': '_doc',\n",
       "    '_id': 's1361',\n",
       "    '_score': 5.462355,\n",
       "    '_source': {'title': 'The House Arrest of Us',\n",
       "     'director': 'Richard Arellano',\n",
       "     'description': 'A couple decides to make their engagement official by honoring tradition when a pandemic forces them and their families to quarantine under one roof.',\n",
       "     'duration': '1 Season',\n",
       "     'cast': 'Daniel Padilla, Kathryn Bernardo, Herbert Bautista, Ruffa Gutierrez, Gardo Versoza, Arlene Muhlach, Arlene Muchlach, Dennis Padilla, Riva Quenery, Anthony Jennings, Alora Sasam, Huybs Azarcon'}},\n",
       "   {'_index': 'elkdemo',\n",
       "    '_type': '_doc',\n",
       "    '_id': 's1491',\n",
       "    '_score': 5.462355,\n",
       "    '_source': {'title': 'The Magic School Bus Rides Again In the Zone',\n",
       "     'director': 'Richard Weston',\n",
       "     'description': \"Ms. Frizzle's class sees every show on a pop star's New Year's Eve tour, learning about time zones as they attend all her concerts on the same night.\",\n",
       "     'duration': '46 min',\n",
       "     'cast': 'Mikaela Blake, Gabby Clarke, Roman Lutterotti, Leke Maceda-Rustecki, Matthew Mucci, Lynsey Pham, Kaden Stephen, Lights'}},\n",
       "   {'_index': 'elkdemo',\n",
       "    '_type': '_doc',\n",
       "    '_id': 's1614',\n",
       "    '_score': 5.462355,\n",
       "    '_source': {'title': 'Effie Gray',\n",
       "     'director': 'Richard Laxton',\n",
       "     'description': 'Trapped in a loveless marriage, the young wife of Victorian-era art critic John Ruskin finds herself falling for an artist — and looking for a way out.',\n",
       "     'duration': '109 min',\n",
       "     'cast': 'Dakota Fanning, Emma Thompson, Julie Walters, David Suchet, Derek Jacobi, James Fox, Robbie Coltrane, Claudia Cardinale, Greg Wise, Tom Sturridge'}},\n",
       "   {'_index': 'elkdemo',\n",
       "    '_type': '_doc',\n",
       "    '_id': 's1762',\n",
       "    '_score': 5.462355,\n",
       "    '_source': {'title': 'Little Monsters',\n",
       "     'director': 'Richard Greenberg',\n",
       "     'description': 'Brian knows there are creatures under his bed. When he faces his fears and confronts them, however, he makes some hilariously weird new friends.',\n",
       "     'duration': '102 min',\n",
       "     'cast': 'Fred Savage, Howie Mandel, Daniel Stern, Margaret Whitton, Rick Ducommun, Frank Whaley, Ben Savage, William Murray Weiss, Devin Ratray, Amber Barretto'}},\n",
       "   {'_index': 'elkdemo',\n",
       "    '_type': '_doc',\n",
       "    '_id': 's1816',\n",
       "    '_score': 5.462355,\n",
       "    '_source': {'title': 'The Magic School Bus Rides Again The Frizz Connection',\n",
       "     'director': 'Richard Weston',\n",
       "     'description': 'Lightning splits the Magic School Bus into three pieces, scattering the class across the globe with different versions of Ms. Frizzle aboard each bus!',\n",
       "     'duration': '46 min',\n",
       "     'cast': 'Kate McKinnon, Roman Lutterotti, Mikaela Blake, Gabby Clarke, Leke Maceda-Rustecki, Matthew Mucci, Birva Pandya, Lynsey Pham, Kaden Stephen'}},\n",
       "   {'_index': 'elkdemo',\n",
       "    '_type': '_doc',\n",
       "    '_id': 's2156',\n",
       "    '_score': 5.462355,\n",
       "    '_source': {'title': 'The Magic School Bus Rides Again Kids In Space',\n",
       "     'director': 'Richard Weston',\n",
       "     'description': 'The Magic School Bus kids blast into orbit — and onto the International Space Station — only to find themselves on the run from a giant tardigrade!',\n",
       "     'duration': '46 min',\n",
       "     'cast': 'Kate McKinnon, Matthew Mucci, Mikaela Blake, Gabby Clarke, Roman Lutterotti, Leke Maceda-Rustecki, Birva Pandya, Lynsey Pham, Kaden Stephen'}},\n",
       "   {'_index': 'elkdemo',\n",
       "    '_type': '_doc',\n",
       "    '_id': 's2961',\n",
       "    '_score': 5.462355,\n",
       "    '_source': {'title': 'Justice',\n",
       "     'director': 'Richard Gabai',\n",
       "     'description': \"A U.S. Marshal arrives at a small town in Nevada, only to learn that his preacher brother is dead after standing up to the town's mayor and outlaws.\",\n",
       "     'duration': '92 min',\n",
       "     'cast': 'Nathan Parsons, Jamie-Lynn Sigler, Ellen Hollman, John Lewis, Niko Foster, Quinton Aaron, Jackson Rathbone, Robert Carradine, Lesley-Anne Down, Stephen Lang'}},\n",
       "   {'_index': 'elkdemo',\n",
       "    '_type': '_doc',\n",
       "    '_id': 's3801',\n",
       "    '_score': 5.462355,\n",
       "    '_source': {'title': 'The Perfection',\n",
       "     'director': 'Richard Shepard',\n",
       "     'description': 'In this twisty horror-thriller, a once-promising music prodigy reconnects with her former mentors, only to find them taken with a talented new pupil.',\n",
       "     'duration': '91 min',\n",
       "     'cast': 'Allison Williams, Logan Browning, Steven Weber, Alaina Huffman, Mark Kandborg, Graeme Duffy'}}]}}"
      ]
     },
     "execution_count": 51,
     "metadata": {},
     "output_type": "execute_result"
    }
   ],
   "source": [
    "res"
   ]
  },
  {
   "cell_type": "code",
   "execution_count": 54,
   "metadata": {},
   "outputs": [
    {
     "data": {
      "text/plain": [
       "{'_scroll_id': 'FGluY2x1ZGVfY29udGV4dF91dWlkDXF1ZXJ5QW5kRmV0Y2gBFlBKTDhDQWVhU2JlRDB0RENGeXpDcFEAAAAAAAATxxZBNUZBTDVQY1NjV3pXTTlVbUdZY0NR',\n",
       " 'took': 1,\n",
       " 'timed_out': False,\n",
       " '_shards': {'total': 1, 'successful': 1, 'skipped': 0, 'failed': 0},\n",
       " 'hits': {'total': {'value': 5332, 'relation': 'eq'},\n",
       "  'max_score': 5.462355,\n",
       "  'hits': [{'_index': 'elkdemo',\n",
       "    '_type': '_doc',\n",
       "    '_id': 's6781',\n",
       "    '_score': 5.462355,\n",
       "    '_source': {'title': 'For the Birds',\n",
       "     'director': 'Richard Miron',\n",
       "     'description': 'A woman with a passion for fowl keeps a menagerie of birds that draws the ire of neighbors, animal rights advocates and even her own family.',\n",
       "     'duration': '93 min',\n",
       "     'cast': 'Kathy Murphy'}},\n",
       "   {'_index': 'elkdemo',\n",
       "    '_type': '_doc',\n",
       "    '_id': 's7691',\n",
       "    '_score': 5.462355,\n",
       "    '_source': {'title': 'P.S. I Love You',\n",
       "     'director': 'Richard LaGravenese',\n",
       "     'description': 'When she loses her beloved husband to a brain tumor, grieving widow Holly Kennedy learns that he left a series of letters behind to help her cope.',\n",
       "     'duration': '126 min',\n",
       "     'cast': 'Hilary Swank, Gerard Butler, Lisa Kudrow, Gina Gershon, James Marsters, Kathy Bates, Harry Connick Jr., Nellie McKay, Jeffrey Dean Morgan, Dean Winters'}},\n",
       "   {'_index': 'elkdemo',\n",
       "    '_type': '_doc',\n",
       "    '_id': 's7815',\n",
       "    '_score': 5.462355,\n",
       "    '_source': {'title': \"R.L. Stine's Mostly Ghostly\",\n",
       "     'director': 'Richard Correll',\n",
       "     'description': 'After discovering a pair of young ghosts, a nebbish 11-year-old agrees to help the sibling spirits solve the mystery surrounding their demise.',\n",
       "     'duration': '98 min',\n",
       "     'cast': 'Madison Pettis, Sterling Beaumon, Luke Benward, Brian Stepanek, David DeLuise, Kim Rhodes, Adam Hicks, Ali Lohan, Sabrina Bryan, Rachel Winfree, Diego Acuña'}},\n",
       "   {'_index': 'elkdemo',\n",
       "    '_type': '_doc',\n",
       "    '_id': 's8008',\n",
       "    '_score': 5.462355,\n",
       "    '_source': {'title': 'Shopkins: World Vacation',\n",
       "     'director': 'Richard Bailey',\n",
       "     'description': 'The Shopkins and Shoppies jet around the world in search of missing friend Kooky Cookie, a stolen diamond and more vloggable adventure.',\n",
       "     'duration': '71 min',\n",
       "     'cast': 'Kate Murphy, Cassandra Morris, Erika Harlacher, Abby Trott, Brianna Plantano, Reba Buhr, Doug Erholtz, Cherami Leigh, Brianna Knickerbocker'}},\n",
       "   {'_index': 'elkdemo',\n",
       "    '_type': '_doc',\n",
       "    '_id': 's8221',\n",
       "    '_score': 5.462355,\n",
       "    '_source': {'title': 'The Box',\n",
       "     'director': 'Richard Kelly',\n",
       "     'description': 'A couple must decide whether to push a button that will net them a million dollars but that will also cause the death of a complete stranger.',\n",
       "     'duration': '116 min',\n",
       "     'cast': 'Cameron Diaz, James Marsden, Frank Langella, James Rebhorn, Holmes Osborne, Sam Oz Stone, Gillian Jacobs, Celia Weston, Deborah Rush'}},\n",
       "   {'_index': 'elkdemo',\n",
       "    '_type': '_doc',\n",
       "    '_id': 's3158',\n",
       "    '_score': 4.615113,\n",
       "    '_source': {'title': 'Jack Whitehall: Christmas with My Father',\n",
       "     'director': \"Richard van't Riet\",\n",
       "     'description': \"Jack Whitehall invites his notoriously stuffy father onstage in London's West End for a Christmas comedy extravaganza, complete with celebrity guests.\",\n",
       "     'duration': '65 min',\n",
       "     'cast': 'Jack Whitehall, Michael Whitehall, Hugh Bonneville, Graham Norton, Layton Williams, Andrew Lloyd Webber, Tim Rice, Tan France, Antoni Porowski, Jonathan Van Ness'}},\n",
       "   {'_index': 'elkdemo',\n",
       "    '_type': '_doc',\n",
       "    '_id': 's8619',\n",
       "    '_score': 4.615113,\n",
       "    '_source': {'title': 'Trash Fire',\n",
       "     'director': 'Richard Bates Jr.',\n",
       "     'description': 'Surprise news that his girlfriend is pregnant sends loutish Owen on an ill-advised trip to reconnect with his twisted sister and sadistic grandmother.',\n",
       "     'duration': '94 min',\n",
       "     'cast': 'Adrian Grenier, Angela Trimbur, AnnaLynne McCord, Fionnula Flanagan, Matthew Gray Gubler, Ray Santiago, Sally Kirkland, Ezra Buzzington'}},\n",
       "   {'_index': 'elkdemo',\n",
       "    '_type': '_doc',\n",
       "    '_id': 's2745',\n",
       "    '_score': 3.9954028,\n",
       "    '_source': {'title': 'The Little Vampire',\n",
       "     'director': 'Richard Claus, Karsten Kiilerich',\n",
       "     'description': 'An American kid obsessed with the undead befriends and offers to help a young vampire whose family is being targeted by a merciless vampire hunter.',\n",
       "     'duration': '83 min',\n",
       "     'cast': 'Matthew Marsh, Rasmus Hardiker, Miriam Margolyes, Tim Pigott-Smith, Alice Krige, Amy Saville, Joseph Kloska, Diane Wilson, Phoebe Givron-Taylor, Jim Carter, Sven De Ridder'}},\n",
       "   {'_index': 'elkdemo',\n",
       "    '_type': '_doc',\n",
       "    '_id': 's2912',\n",
       "    '_score': 3.9954028,\n",
       "    '_source': {'title': 'A Shaun the Sheep Movie: Farmageddon',\n",
       "     'director': 'Richard Phelan, Will Becher',\n",
       "     'description': 'Shaun and the flock race to help an adorable alien find her way home after her ship crash-lands near Mossy Bottom Farm and sparks a UFO frenzy.',\n",
       "     'duration': '87 min',\n",
       "     'cast': 'Justin Fletcher, John Sparkes, Amalia Vitale, Kate Harbour, David Holt'}},\n",
       "   {'_index': 'elkdemo',\n",
       "    '_type': '_doc',\n",
       "    '_id': 's7597',\n",
       "    '_score': 3.9954028,\n",
       "    '_source': {'title': 'Norm of the North: King Sized Adventure',\n",
       "     'director': 'Richard Finn, Tim Maltby',\n",
       "     'description': 'Before planning an awesome wedding for his grandfather, a polar bear king must take back a stolen artifact from an evil archaeologist first.',\n",
       "     'duration': '90 min',\n",
       "     'cast': 'Alan Marriott, Andrew Toth, Brian Dobson, Cole Howard, Jennifer Cameron, Jonathan Holmes, Lee Tockar, Lisa Durupt, Maya Kay, Michael Dobson'}}]}}"
      ]
     },
     "execution_count": 54,
     "metadata": {},
     "output_type": "execute_result"
    }
   ],
   "source": [
    "page = es.scroll(scroll_id = \"FGluY2x1ZGVfY29udGV4dF91dWlkDXF1ZXJ5QW5kRmV0Y2gBFlBKTDhDQWVhU2JlRDB0RENGeXpDcFEAAAAAAAATxxZBNUZBTDVQY1NjV3pXTTlVbUdZY0NR\", scroll = '10m')\n",
    "page"
   ]
  },
  {
   "cell_type": "code",
   "execution_count": null,
   "metadata": {},
   "outputs": [],
   "source": []
  },
  {
   "cell_type": "code",
   "execution_count": 32,
   "metadata": {},
   "outputs": [
    {
     "name": "stdout",
     "output_type": "stream",
     "text": [
      "Total Pages  : 534\n"
     ]
    }
   ],
   "source": [
    "counter = 0 \n",
    "sid =  res[\"_scroll_id\"]\n",
    "scroll_size = res['hits']['total']\n",
    "scroll_size = scroll_size['value']\n",
    "print()\n",
    "\n",
    "\n",
    "# Start scrolling\n",
    "while (scroll_size > 0):\n",
    "\n",
    "    #print(\"Scrolling...\")\n",
    "    page = es.scroll(scroll_id = sid, scroll = '10m')\n",
    "    \n",
    "    #print(\"Hits : \",len(page[\"hits\"][\"hits\"]))\n",
    "    \n",
    "    # Update the scroll ID\n",
    "    sid = page['_scroll_id']\n",
    "\n",
    "    # Get the number of results that we returned in the last scroll\n",
    "    scroll_size = len(page['hits']['hits'])\n",
    "\n",
    "    #print(\"Scroll Size {} \".format(scroll_size))\n",
    "    \n",
    "    # Do something with the obtained page\n",
    "    counter = counter + 1\n",
    "\n",
    "print(\"Total Pages  : {}\".format(counter))"
   ]
  },
  {
   "cell_type": "markdown",
   "metadata": {},
   "source": [
    "## Method 2\n",
    "- the idea Goes Like this we need to map page number and we divide the search into parts\n",
    "- say the size was 500\n",
    "- Page 1 -> 0-10\n",
    "- Page 2 -> 10-20\n",
    "- All this time the size is same the query is same all that is changing is from and to word\n",
    "- think this way you will only query once and create a hashmap with key as page number and value would be sliced Records"
   ]
  },
  {
   "cell_type": "code",
   "execution_count": 38,
   "metadata": {},
   "outputs": [],
   "source": [
    "res = es.search(\n",
    "  index = 'elkdemo', #name of the index name\n",
    "  size = 100, #How many records you need in each cycle\n",
    "  body = myquey)"
   ]
  },
  {
   "cell_type": "code",
   "execution_count": 39,
   "metadata": {},
   "outputs": [],
   "source": [
    "data = res[\"hits\"][\"hits\"]"
   ]
  },
  {
   "cell_type": "code",
   "execution_count": 40,
   "metadata": {},
   "outputs": [],
   "source": [
    "hashmap = {}"
   ]
  },
  {
   "cell_type": "code",
   "execution_count": 41,
   "metadata": {},
   "outputs": [],
   "source": [
    "step = 2\n",
    "hashmap = {}\n",
    "for i in range(len(data)):\n",
    "    if i==0:\n",
    "        hashmap[i] = data[0:step]\n",
    "    else:\n",
    "        startIndex = step * i\n",
    "        EndIndex =  ((i+1) * (step))\n",
    "        sample = data[startIndex:EndIndex]\n",
    "        hashmap[i] = sample"
   ]
  },
  {
   "cell_type": "code",
   "execution_count": null,
   "metadata": {},
   "outputs": [],
   "source": []
  },
  {
   "cell_type": "markdown",
   "metadata": {},
   "source": [
    "# Inserting latitude and Longitude in your Elastic Search as geo_point -> Strinng Mapping to geo_point"
   ]
  },
  {
   "cell_type": "code",
   "execution_count": 55,
   "metadata": {},
   "outputs": [
    {
     "name": "stdout",
     "output_type": "stream",
     "text": [
      "Loaded  .. . . . . . . .\n"
     ]
    }
   ],
   "source": [
    "try:\n",
    "    import elasticsearch\n",
    "    from elasticsearch import Elasticsearch\n",
    "    print(\"Loaded  .. . . . . . . .\")\n",
    "except Exception as E:\n",
    "    print(\"Some Modules are Missing {} \".format(e))"
   ]
  },
  {
   "cell_type": "code",
   "execution_count": 56,
   "metadata": {},
   "outputs": [],
   "source": [
    "es = Elasticsearch([{'host':'localhost','port':9200}])"
   ]
  },
  {
   "cell_type": "code",
   "execution_count": 69,
   "metadata": {},
   "outputs": [],
   "source": [
    "data = {\n",
    "  'name': 'bellingham, washington, united states',\n",
    "  'locality': 'bellingham',\n",
    "  'region': 'washington',\n",
    "  'subregion': 'whatcom county',\n",
    "  'country': 'united states',\n",
    "  'continent': 'north america',\n",
    "  'type': 'locality',\n",
    "  'geo': \n",
    "    {'lat':48.75, #it should always be lat and lon\n",
    "     'lon':-122.48\n",
    "       },\n",
    "  'postal_code': '98225',\n",
    "  'zip_plus_4': None,\n",
    "  'street_address': None,\n",
    "  'address_line_2': None,\n",
    "  'most_recent': False,\n",
    "  'is_primary': True,\n",
    "  'last_updated': None,\n",
    "  'last_updated2': None\n",
    "}"
   ]
  },
  {
   "cell_type": "markdown",
   "metadata": {},
   "source": [
    "### Creating a Custom Mapping \n",
    "Whatever or However the complex data you have while creating index we dont need to provide all feilds mappings. By default elastic Search will assign the feilds their relevant mappings (datatypes). We just have to specify whatever feild you want for example in this example i just wanted to change geo i just specified that feild as geo_point"
   ]
  },
  {
   "cell_type": "code",
   "execution_count": 70,
   "metadata": {},
   "outputs": [],
   "source": [
    "Sett = { \n",
    "    \"settings\":{ \n",
    "        \"number_of_shards\":1,\n",
    "        \"number_of_replicas\":0\n",
    "    },\n",
    "    \"mappings\":{ \n",
    "        \"properties\":{\n",
    "            \"geo\":{ \n",
    "                \"type\":\"geo_point\"\n",
    "            }\n",
    "        }\n",
    "    }\n",
    "}"
   ]
  },
  {
   "cell_type": "code",
   "execution_count": 71,
   "metadata": {},
   "outputs": [
    {
     "data": {
      "text/plain": [
       "{'error': {'root_cause': [{'type': 'resource_already_exists_exception',\n",
       "    'reason': 'index [geo_search/XEuko5O_SvCdCRHOrqMBBw] already exists',\n",
       "    'index_uuid': 'XEuko5O_SvCdCRHOrqMBBw',\n",
       "    'index': 'geo_search'}],\n",
       "  'type': 'resource_already_exists_exception',\n",
       "  'reason': 'index [geo_search/XEuko5O_SvCdCRHOrqMBBw] already exists',\n",
       "  'index_uuid': 'XEuko5O_SvCdCRHOrqMBBw',\n",
       "  'index': 'geo_search'},\n",
       " 'status': 400}"
      ]
     },
     "execution_count": 71,
     "metadata": {},
     "output_type": "execute_result"
    }
   ],
   "source": [
    "es.indices.create(index='geo_search', ignore=400, body=Sett)"
   ]
  },
  {
   "cell_type": "code",
   "execution_count": 72,
   "metadata": {},
   "outputs": [
    {
     "data": {
      "text/plain": [
       "{'_index': 'geo_search',\n",
       " '_type': '_doc',\n",
       " '_id': '1',\n",
       " '_version': 1,\n",
       " 'result': 'created',\n",
       " '_shards': {'total': 1, 'successful': 1, 'failed': 0},\n",
       " '_seq_no': 0,\n",
       " '_primary_term': 1}"
      ]
     },
     "execution_count": 72,
     "metadata": {},
     "output_type": "execute_result"
    }
   ],
   "source": [
    "res1 = es.index(index='geo_search', body=data, id=1)\n",
    "res1"
   ]
  },
  {
   "cell_type": "code",
   "execution_count": null,
   "metadata": {},
   "outputs": [],
   "source": [
    "#Run below query in kibana\n",
    "GET geo_search/_search\n",
    "{\n",
    "  \"query\": {\n",
    "    \"bool\": {\n",
    "      \"must\": {\n",
    "        \"match_all\": {}\n",
    "      },\n",
    "      \"filter\": {\n",
    "        \"geo_distance\": {\n",
    "          \"distance\": \"5000km\",\n",
    "          \"geo\": {\n",
    "            \"lat\": 40,\n",
    "            \"lon\": -70\n",
    "          }\n",
    "        }\n",
    "      }\n",
    "    }\n",
    "  }\n",
    "}"
   ]
  },
  {
   "cell_type": "markdown",
   "metadata": {},
   "source": [
    "https://github.com/LisaHJung/Part-2-Understanding-the-relevance-of-your-search-with-Elasticsearch-and-Kibana- for aggregation and query\n",
    "\n",
    "https://github.com/LisaHJung/Part-3-Running-full-text-queries-and-combined-queries-with-Elasticsearch-and-Kibana for match, match_phrase, multi_match with per-field boosting(search in multiple fields- the terms need not to be in order), boolean query\n",
    "\n",
    "https://github.com/LisaHJung/Part-4-Running-Aggregations-with-Elasticsearch-and-Kibana for bucket aggregations like date_histogram (with fixed_interval or calender_interval), histogram, range and terms. Metric aggregrations like sum, min, avg, stats etc. And Combined Aggregations using metric aggregations and bucket aggregation both.\n",
    "\n",
    "https://github.com/LisaHJung/Part-5-Understanding-Mapping-with-Elasticsearch-and-Kibana for mapping and run-time fields"
   ]
  },
  {
   "cell_type": "code",
   "execution_count": null,
   "metadata": {},
   "outputs": [],
   "source": []
  }
 ],
 "metadata": {
  "kernelspec": {
   "display_name": "Python 3",
   "language": "python",
   "name": "python3"
  },
  "language_info": {
   "codemirror_mode": {
    "name": "ipython",
    "version": 3
   },
   "file_extension": ".py",
   "mimetype": "text/x-python",
   "name": "python",
   "nbconvert_exporter": "python",
   "pygments_lexer": "ipython3",
   "version": "3.8.5"
  }
 },
 "nbformat": 4,
 "nbformat_minor": 4
}
