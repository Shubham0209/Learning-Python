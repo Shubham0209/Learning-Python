{
 "cells": [
  {
   "cell_type": "code",
   "execution_count": 26,
   "metadata": {},
   "outputs": [
    {
     "name": "stdout",
     "output_type": "stream",
     "text": [
      "Sleeping  second(s)...\n",
      "Done Sleeping...\n",
      "Sleeping  second(s)...\n",
      "Done Sleeping...\n",
      "Finished in 2.01 second(s)\n"
     ]
    }
   ],
   "source": [
    "#running sync\n",
    "import time\n",
    "\n",
    "start = time.perf_counter()\n",
    "\n",
    "\n",
    "def do_something():\n",
    "    print(f'Sleeping  second(s)...')\n",
    "    time.sleep(1)\n",
    "    print('Done Sleeping...')\n",
    "\n",
    "do_something()\n",
    "do_something()\n",
    "\n",
    "finish = time.perf_counter()\n",
    "\n",
    "print(f'Finished in {round(finish-start, 2)} second(s)')"
   ]
  },
  {
   "cell_type": "code",
   "execution_count": 15,
   "metadata": {},
   "outputs": [
    {
     "data": {
      "image/svg+xml": "<svg xmlns=\"http://www.w3.org/2000/svg\" xmlns:xlink=\"http://www.w3.org/1999/xlink\" version=\"1.1\" width=\"996px\" height=\"396px\" viewBox=\"-0.5 -0.5 996 396\" content=\"&lt;mxfile modified=&quot;2019-08-14T21:03:37.375Z&quot; host=&quot;&quot; agent=&quot;Mozilla/5.0 (Macintosh; Intel Mac OS X 10_14_5) AppleWebKit/537.36 (KHTML, like Gecko) draw.io/11.1.4 Chrome/76.0.3809.88 Electron/6.0.0 Safari/537.36&quot; etag=&quot;RpZSUlALihe0-_zCGPoW&quot; version=&quot;11.1.4&quot; type=&quot;device&quot;&gt;&lt;diagram id=&quot;sPgSZECuS-FUJn0V418L&quot; name=&quot;Page-1&quot;&gt;7Vhdb9owFP01SNsDleMkJjwy+vWyqRKVWvoymcRJrCYxc0wJ/fVzEhvyRSmlwCb1pbKPnRvnnuNzb+mZ4zi74Xge/mQeiXoQeFnPvOxBOLSQ/JsDqxJAwCiBgFOvhCrAhL4SBQKFLqhH0tpGwVgk6LwOuixJiCtqGOacLevbfBbV3zrHAWkBExdHbfSBeiIsUccGG/yW0CDUbzaAWomx3qyANMQeW1Yg86pnjjljohzF2ZhEee50Xsrnrresrg/GSSLe88D1jcni0e/06fl2cGtkM/jwK+irKC84WqgPvqcxUQcWK50FknijPJly5kY4TanbM3+EIo4kYMihzxKhuDNsNb/GMY1y1u9xyGIs0faJ1euJVyNBnf+GsJgIvpIblpvU68yHlaxrjJMIC/pSpw4rBQTrcOs33DEqTwKBEqulwiipWg6oR0jZgrtEPVTNdCOOA3cEEpgHRLQCyUHlqzdQQeQepFotUnsQRULxUmMW/VkwvdBPCwZHcoNkKSsI0+tyFBT7Fon77bsOJ09XRiwXW7LhbJF4JD8qkMvLkAoymWM3X11Kt2hoiEbRmEWMF8+ank0cz5J4Kjh7JpUVB85MhLaqrKJFCN5S3QvhgmRv6i6r60vzqe94RZZOhywR2K7AGuf7EoyOR7BMBJgQ6abeKUj2fR+6bhfJHpoh+6QkG2adZbOD5bVFnIRmo+si7+nMHk7Dgpx8QjIqHivjqSItH19m1cmqMrkjXNYEQbjGEvlxeZg+uADA0shUB84nm2jFbFWdNeMdyHDpyrvtsDTd3bfqHylGsCFHC36wGhmNsmY2A31eNZrCxLdgMJk+iVE46z8/oqfXjmp0yZJ2i3FQrcDE8TttBLkOmfl7iqzlGR2622ojaLi7WBjwSDbSSYB9AhcxPu4ioGog4NgG0rjdOx2lM6ODtqNsl/65DMSxhhfAqmmxpbF3d7QNUZv2aT3kiA3Pf9vRHuRS5uB8Le1bV+qrpf1Mli37jC1tJ83OV0d7jIKE3lmQBucsSHbz3+iPdrQWOm9HO/xqqPbR77n01qxxa/fbV29bi+XBepPTzQ/A5fbNr+jm1V8=&lt;/diagram&gt;&lt;/mxfile&gt;\" style=\"background-color: rgb(255, 255, 255);\"><defs/><g><path d=\"M 107 287 L 880.63 287\" fill=\"none\" stroke=\"#000000\" stroke-miterlimit=\"10\" pointer-events=\"none\"/><path d=\"M 885.88 287 L 878.88 290.5 L 880.63 287 L 878.88 283.5 Z\" fill=\"#000000\" stroke=\"#000000\" stroke-miterlimit=\"10\" pointer-events=\"none\"/><g transform=\"translate(480.5,278.5)\"><switch><foreignObject style=\"overflow:visible;\" pointer-events=\"all\" width=\"33\" height=\"16\" requiredFeatures=\"http://www.w3.org/TR/SVG11/feature#Extensibility\"><div xmlns=\"http://www.w3.org/1999/xhtml\" style=\"display: inline-block; font-size: 15px; font-family: Tahoma; color: rgb(0, 0, 0); line-height: 1.2; vertical-align: top; white-space: nowrap; text-align: center;\"><div xmlns=\"http://www.w3.org/1999/xhtml\" style=\"display:inline-block;text-align:inherit;text-decoration:inherit;background-color:#ffffff;\">Time</div></div></foreignObject><text x=\"17\" y=\"16\" fill=\"#000000\" text-anchor=\"middle\" font-size=\"15px\" font-family=\"Tahoma\">Time</text></switch></g><rect x=\"117\" y=\"207\" width=\"80\" height=\"60\" fill=\"#d5e8d4\" stroke=\"#82b366\" pointer-events=\"none\"/><g transform=\"translate(129.5,225.5)\"><switch><foreignObject style=\"overflow:visible;\" pointer-events=\"all\" width=\"54\" height=\"22\" requiredFeatures=\"http://www.w3.org/TR/SVG11/feature#Extensibility\"><div xmlns=\"http://www.w3.org/1999/xhtml\" style=\"display: inline-block; font-size: 20px; font-family: Tahoma; color: rgb(0, 0, 0); line-height: 1.2; vertical-align: top; width: 54px; white-space: nowrap; overflow-wrap: normal; text-align: center;\"><div xmlns=\"http://www.w3.org/1999/xhtml\" style=\"display:inline-block;text-align:inherit;text-decoration:inherit;white-space:normal;\"><font style=\"font-size: 20px\">func()</font></div></div></foreignObject><text x=\"27\" y=\"21\" fill=\"#000000\" text-anchor=\"middle\" font-size=\"20px\" font-family=\"Tahoma\">[Not supported by viewer]</text></switch></g><rect x=\"197\" y=\"107\" width=\"240\" height=\"60\" fill=\"#fff2cc\" stroke=\"#d6b656\" pointer-events=\"none\"/><g transform=\"translate(275.5,125.5)\"><switch><foreignObject style=\"overflow:visible;\" pointer-events=\"all\" width=\"82\" height=\"22\" requiredFeatures=\"http://www.w3.org/TR/SVG11/feature#Extensibility\"><div xmlns=\"http://www.w3.org/1999/xhtml\" style=\"display: inline-block; font-size: 20px; font-family: Tahoma; color: rgb(0, 0, 0); line-height: 1.2; vertical-align: top; width: 82px; white-space: nowrap; overflow-wrap: normal; text-align: center;\"><div xmlns=\"http://www.w3.org/1999/xhtml\" style=\"display:inline-block;text-align:inherit;text-decoration:inherit;white-space:normal;\"><font style=\"font-size: 20px\">1 Second</font></div></div></foreignObject><text x=\"41\" y=\"21\" fill=\"#000000\" text-anchor=\"middle\" font-size=\"20px\" font-family=\"Tahoma\">[Not supported by viewer]</text></switch></g><path d=\"M 197 207 L 196.19 173.37\" fill=\"none\" stroke=\"#000000\" stroke-miterlimit=\"10\" stroke-dasharray=\"3 3\" pointer-events=\"none\"/><path d=\"M 196.07 168.12 L 199.73 175.03 L 196.19 173.37 L 192.74 175.2 Z\" fill=\"#000000\" stroke=\"#000000\" stroke-miterlimit=\"10\" pointer-events=\"none\"/><rect x=\"757\" y=\"207\" width=\"120\" height=\"60\" fill=\"#dae8fc\" stroke=\"#6c8ebf\" pointer-events=\"none\"/><g transform=\"translate(793.5,225.5)\"><switch><foreignObject style=\"overflow:visible;\" pointer-events=\"all\" width=\"46\" height=\"22\" requiredFeatures=\"http://www.w3.org/TR/SVG11/feature#Extensibility\"><div xmlns=\"http://www.w3.org/1999/xhtml\" style=\"display: inline-block; font-size: 20px; font-family: Tahoma; color: rgb(0, 0, 0); line-height: 1.2; vertical-align: top; width: 48px; white-space: nowrap; overflow-wrap: normal; text-align: center;\"><div xmlns=\"http://www.w3.org/1999/xhtml\" style=\"display:inline-block;text-align:inherit;text-decoration:inherit;white-space:normal;\">Done</div></div></foreignObject><text x=\"23\" y=\"21\" fill=\"#000000\" text-anchor=\"middle\" font-size=\"20px\" font-family=\"Tahoma\">Done</text></switch></g><path d=\"M 757 167 L 757 200.63\" fill=\"none\" stroke=\"#000000\" stroke-miterlimit=\"10\" stroke-dasharray=\"3 3\" pointer-events=\"none\"/><path d=\"M 757 205.88 L 753.5 198.88 L 757 200.63 L 760.5 198.88 Z\" fill=\"#000000\" stroke=\"#000000\" stroke-miterlimit=\"10\" pointer-events=\"none\"/><rect x=\"437\" y=\"207\" width=\"80\" height=\"60\" fill=\"#d5e8d4\" stroke=\"#82b366\" pointer-events=\"none\"/><g transform=\"translate(449.5,225.5)\"><switch><foreignObject style=\"overflow:visible;\" pointer-events=\"all\" width=\"54\" height=\"22\" requiredFeatures=\"http://www.w3.org/TR/SVG11/feature#Extensibility\"><div xmlns=\"http://www.w3.org/1999/xhtml\" style=\"display: inline-block; font-size: 20px; font-family: Tahoma; color: rgb(0, 0, 0); line-height: 1.2; vertical-align: top; width: 54px; white-space: nowrap; overflow-wrap: normal; text-align: center;\"><div xmlns=\"http://www.w3.org/1999/xhtml\" style=\"display:inline-block;text-align:inherit;text-decoration:inherit;white-space:normal;\"><font style=\"font-size: 20px\">func()</font></div></div></foreignObject><text x=\"27\" y=\"21\" fill=\"#000000\" text-anchor=\"middle\" font-size=\"20px\" font-family=\"Tahoma\">[Not supported by viewer]</text></switch></g><rect x=\"517\" y=\"107\" width=\"240\" height=\"60\" fill=\"#fff2cc\" stroke=\"#d6b656\" pointer-events=\"none\"/><g transform=\"translate(595.5,125.5)\"><switch><foreignObject style=\"overflow:visible;\" pointer-events=\"all\" width=\"82\" height=\"22\" requiredFeatures=\"http://www.w3.org/TR/SVG11/feature#Extensibility\"><div xmlns=\"http://www.w3.org/1999/xhtml\" style=\"display: inline-block; font-size: 20px; font-family: Tahoma; color: rgb(0, 0, 0); line-height: 1.2; vertical-align: top; width: 82px; white-space: nowrap; overflow-wrap: normal; text-align: center;\"><div xmlns=\"http://www.w3.org/1999/xhtml\" style=\"display:inline-block;text-align:inherit;text-decoration:inherit;white-space:normal;\"><font style=\"font-size: 20px\">1 Second</font></div></div></foreignObject><text x=\"41\" y=\"21\" fill=\"#000000\" text-anchor=\"middle\" font-size=\"20px\" font-family=\"Tahoma\">[Not supported by viewer]</text></switch></g><path d=\"M 517 207 L 516.19 173.37\" fill=\"none\" stroke=\"#000000\" stroke-miterlimit=\"10\" stroke-dasharray=\"3 3\" pointer-events=\"none\"/><path d=\"M 516.07 168.12 L 519.73 175.03 L 516.19 173.37 L 512.74 175.2 Z\" fill=\"#000000\" stroke=\"#000000\" stroke-miterlimit=\"10\" pointer-events=\"none\"/><path d=\"M 437 107 L 437 200.63\" fill=\"none\" stroke=\"#000000\" stroke-miterlimit=\"10\" stroke-dasharray=\"3 3\" pointer-events=\"none\"/><path d=\"M 437 205.88 L 433.5 198.88 L 437 200.63 L 440.5 198.88 Z\" fill=\"#000000\" stroke=\"#000000\" stroke-miterlimit=\"10\" pointer-events=\"none\"/></g></svg>",
      "text/plain": [
       "<IPython.core.display.SVG object>"
      ]
     },
     "execution_count": 15,
     "metadata": {},
     "output_type": "execute_result"
    }
   ],
   "source": [
    "from IPython.display import SVG\n",
    "SVG(\"multiprocessing-1.svg\")"
   ]
  },
  {
   "cell_type": "code",
   "execution_count": 21,
   "metadata": {},
   "outputs": [
    {
     "data": {
      "image/svg+xml": "<svg xmlns=\"http://www.w3.org/2000/svg\" xmlns:xlink=\"http://www.w3.org/1999/xlink\" version=\"1.1\" width=\"996px\" height=\"609px\" viewBox=\"-0.5 -0.5 996 609\" content=\"&lt;mxfile modified=&quot;2019-09-08T18:47:59.969Z&quot; host=&quot;&quot; agent=&quot;Mozilla/5.0 (Macintosh; Intel Mac OS X 10_14_5) AppleWebKit/537.36 (KHTML, like Gecko) draw.io/11.2.5 Chrome/76.0.3809.139 Electron/6.0.7 Safari/537.36&quot; etag=&quot;-n06Ykh3SFcGDGMdjhBC&quot; version=&quot;11.2.5&quot; type=&quot;device&quot; pages=&quot;1&quot;&gt;&lt;diagram id=&quot;sPgSZECuS-FUJn0V418L&quot; name=&quot;Page-1&quot;&gt;7Vldb9owFP01SNsDleMEEx5p6cfLqkpUWsvLZGKTWE1i5pgC/fVzEoc4H6V0g7TS+oJ8r51rx+f4HDA9+yLaXAu8DH5wQsMeBGTTsyc9CEcOUp9pYpsnEIB5wheM5CmrTEzZC9VJoLMrRmhSGSg5DyVbVpMej2PqyUoOC8HX1WELHlZnXWKfNhJTD4fN7E9GZJBn3QEo8zeU+UExswV0T4SLwTqRBJjwtZGyL3v2heBc5q1oc0HDdO+Kfcmfu3qld7cwQWN5yANX1zaPxr+S2dPN8MbazOHPW7+vqzzjcKVf+J5FVC9YbotdoDEZp5upIi/EScK8nn0eyChUCUs1FzyWGjtroOMrHLEwRf0eBzzCKttcsZ6ekgoIev3XlEdUiq0asC63vtj5wNj1IidoiCV7rkKHNQP8XbndDHecqZVAoMnq6DKaqo4LqhUSvhIe1Q+ZO12r48I3CkksfCobhVTDeOsylQHZDuojjBcO9KePMzkO5v2nBzR76TsNUCc8boIq+ComNC0EFDjrgEk6XWIv7V2rs1xDmIXhBQ+5yJ61CabuIiVBIgV/okYP8lw6X7zKAYMpEOzjxDMVkm72skL3Dmq42SMdG6yxYAttEHidIRVM3gvAoAHAu08UwUmQYZMGdMPkg9F+NNqTjQYwC7ZGcEeFOsuSiiIXq3d7MINHMygLZdHWjOql/hHb/CDt2cChVvrsnLzN9E+iH2g0OgNOhYu70u/VkGGd1E63GoJaKIxCqVGucBn9XvGio59k+I/VAIX8JiNB0a9afjZuFXvfvhfl1OryinnncVVqQF3itKmUC+c2Ql2qFIRvq5TbpUgNT4ew2gkwpeorGekC5cViAb1WLyJojgadomyDKsqwBeXd94xOYHY78KKd/bzfi/rgDADHNCTrMxoSOtCQhp/KkJwaGx3rL93ItmriVS90PDea9y8nYLmmWzLeus4sRreT6771ZUdNHjdUqYXaB9uR5XZnR+0Qf/nRCWCu+1ELyiezo3aYv/yoDnDNLN40qL0KaTrUnnP2WRwJgiM5klUvdGJHKuTT4PGd4B5NEpUsQCsprU6wrJK4Kg5xekFTVRKdwiHz4/QkKEqk9DpP9YB5OBzrjogRkk7TqlJVHTP5B48jMPWfqcMD717gqQQGNq80S2CaWvO/AGOhDwcGHlv5C822el3eZx0i14f9TvgoEa5fmFr1u6VDRXiAamo+OpYIq7D8ZyQfXv69ZF/+AQ==&lt;/diagram&gt;&lt;/mxfile&gt;\" style=\"background-color: rgb(255, 255, 255);\"><defs/><g><path d=\"M 107 500 L 880.63 500\" fill=\"none\" stroke=\"#000000\" stroke-miterlimit=\"10\" pointer-events=\"none\"/><path d=\"M 885.88 500 L 878.88 503.5 L 880.63 500 L 878.88 496.5 Z\" fill=\"#000000\" stroke=\"#000000\" stroke-miterlimit=\"10\" pointer-events=\"none\"/><g transform=\"translate(480.5,491.5)\"><switch><foreignObject style=\"overflow:visible;\" pointer-events=\"all\" width=\"33\" height=\"16\" requiredFeatures=\"http://www.w3.org/TR/SVG11/feature#Extensibility\"><div xmlns=\"http://www.w3.org/1999/xhtml\" style=\"display: inline-block; font-size: 15px; font-family: Tahoma; color: rgb(0, 0, 0); line-height: 1.2; vertical-align: top; white-space: nowrap; text-align: center;\"><div xmlns=\"http://www.w3.org/1999/xhtml\" style=\"display:inline-block;text-align:inherit;text-decoration:inherit;background-color:#ffffff;\">Time</div></div></foreignObject><text x=\"17\" y=\"16\" fill=\"#000000\" text-anchor=\"middle\" font-size=\"15px\" font-family=\"Tahoma\">Time</text></switch></g><rect x=\"607\" y=\"410\" width=\"120\" height=\"60\" fill=\"#dae8fc\" stroke=\"#6c8ebf\" pointer-events=\"none\"/><g transform=\"translate(643.5,428.5)\"><switch><foreignObject style=\"overflow:visible;\" pointer-events=\"all\" width=\"46\" height=\"22\" requiredFeatures=\"http://www.w3.org/TR/SVG11/feature#Extensibility\"><div xmlns=\"http://www.w3.org/1999/xhtml\" style=\"display: inline-block; font-size: 20px; font-family: Tahoma; color: rgb(0, 0, 0); line-height: 1.2; vertical-align: top; width: 48px; white-space: nowrap; overflow-wrap: normal; text-align: center;\"><div xmlns=\"http://www.w3.org/1999/xhtml\" style=\"display:inline-block;text-align:inherit;text-decoration:inherit;white-space:normal;\">Done</div></div></foreignObject><text x=\"23\" y=\"21\" fill=\"#000000\" text-anchor=\"middle\" font-size=\"20px\" font-family=\"Tahoma\">Done</text></switch></g><path d=\"M 607 370 L 607 403.63\" fill=\"none\" stroke=\"#000000\" stroke-miterlimit=\"10\" stroke-dasharray=\"3 3\" pointer-events=\"none\"/><path d=\"M 607 408.88 L 603.5 401.88 L 607 403.63 L 610.5 401.88 Z\" fill=\"#000000\" stroke=\"#000000\" stroke-miterlimit=\"10\" pointer-events=\"none\"/><rect x=\"287\" y=\"410\" width=\"80\" height=\"60\" fill=\"#d5e8d4\" stroke=\"#82b366\" pointer-events=\"none\"/><g transform=\"translate(299.5,428.5)\"><switch><foreignObject style=\"overflow:visible;\" pointer-events=\"all\" width=\"54\" height=\"22\" requiredFeatures=\"http://www.w3.org/TR/SVG11/feature#Extensibility\"><div xmlns=\"http://www.w3.org/1999/xhtml\" style=\"display: inline-block; font-size: 20px; font-family: Tahoma; color: rgb(0, 0, 0); line-height: 1.2; vertical-align: top; width: 54px; white-space: nowrap; overflow-wrap: normal; text-align: center;\"><div xmlns=\"http://www.w3.org/1999/xhtml\" style=\"display:inline-block;text-align:inherit;text-decoration:inherit;white-space:normal;\"><font style=\"font-size: 20px\">func()</font></div></div></foreignObject><text x=\"27\" y=\"21\" fill=\"#000000\" text-anchor=\"middle\" font-size=\"20px\" font-family=\"Tahoma\">[Not supported by viewer]</text></switch></g><rect x=\"367\" y=\"310\" width=\"240\" height=\"60\" fill=\"#fff2cc\" stroke=\"#d6b656\" pointer-events=\"none\"/><g transform=\"translate(445.5,328.5)\"><switch><foreignObject style=\"overflow:visible;\" pointer-events=\"all\" width=\"82\" height=\"22\" requiredFeatures=\"http://www.w3.org/TR/SVG11/feature#Extensibility\"><div xmlns=\"http://www.w3.org/1999/xhtml\" style=\"display: inline-block; font-size: 20px; font-family: Tahoma; color: rgb(0, 0, 0); line-height: 1.2; vertical-align: top; width: 82px; white-space: nowrap; overflow-wrap: normal; text-align: center;\"><div xmlns=\"http://www.w3.org/1999/xhtml\" style=\"display:inline-block;text-align:inherit;text-decoration:inherit;white-space:normal;\"><font style=\"font-size: 20px\">1 Second</font></div></div></foreignObject><text x=\"41\" y=\"21\" fill=\"#000000\" text-anchor=\"middle\" font-size=\"20px\" font-family=\"Tahoma\">[Not supported by viewer]</text></switch></g><path d=\"M 367 410 L 366.19 376.37\" fill=\"none\" stroke=\"#000000\" stroke-miterlimit=\"10\" stroke-dasharray=\"3 3\" pointer-events=\"none\"/><path d=\"M 366.07 371.12 L 369.73 378.03 L 366.19 376.37 L 362.74 378.2 Z\" fill=\"#000000\" stroke=\"#000000\" stroke-miterlimit=\"10\" pointer-events=\"none\"/><rect x=\"287\" y=\"200\" width=\"80\" height=\"60\" fill=\"#d5e8d4\" stroke=\"#82b366\" pointer-events=\"none\"/><g transform=\"translate(299.5,218.5)\"><switch><foreignObject style=\"overflow:visible;\" pointer-events=\"all\" width=\"54\" height=\"22\" requiredFeatures=\"http://www.w3.org/TR/SVG11/feature#Extensibility\"><div xmlns=\"http://www.w3.org/1999/xhtml\" style=\"display: inline-block; font-size: 20px; font-family: Tahoma; color: rgb(0, 0, 0); line-height: 1.2; vertical-align: top; width: 54px; white-space: nowrap; overflow-wrap: normal; text-align: center;\"><div xmlns=\"http://www.w3.org/1999/xhtml\" style=\"display:inline-block;text-align:inherit;text-decoration:inherit;white-space:normal;\"><font style=\"font-size: 20px\">func()</font></div></div></foreignObject><text x=\"27\" y=\"21\" fill=\"#000000\" text-anchor=\"middle\" font-size=\"20px\" font-family=\"Tahoma\">[Not supported by viewer]</text></switch></g><rect x=\"367\" y=\"100\" width=\"240\" height=\"60\" fill=\"#fff2cc\" stroke=\"#d6b656\" pointer-events=\"none\"/><g transform=\"translate(445.5,118.5)\"><switch><foreignObject style=\"overflow:visible;\" pointer-events=\"all\" width=\"82\" height=\"22\" requiredFeatures=\"http://www.w3.org/TR/SVG11/feature#Extensibility\"><div xmlns=\"http://www.w3.org/1999/xhtml\" style=\"display: inline-block; font-size: 20px; font-family: Tahoma; color: rgb(0, 0, 0); line-height: 1.2; vertical-align: top; width: 82px; white-space: nowrap; overflow-wrap: normal; text-align: center;\"><div xmlns=\"http://www.w3.org/1999/xhtml\" style=\"display:inline-block;text-align:inherit;text-decoration:inherit;white-space:normal;\"><font style=\"font-size: 20px\">1 Second</font></div></div></foreignObject><text x=\"41\" y=\"21\" fill=\"#000000\" text-anchor=\"middle\" font-size=\"20px\" font-family=\"Tahoma\">[Not supported by viewer]</text></switch></g><path d=\"M 367 200 L 366.19 166.37\" fill=\"none\" stroke=\"#000000\" stroke-miterlimit=\"10\" stroke-dasharray=\"3 3\" pointer-events=\"none\"/><path d=\"M 366.07 161.12 L 369.73 168.03 L 366.19 166.37 L 362.74 168.2 Z\" fill=\"#000000\" stroke=\"#000000\" stroke-miterlimit=\"10\" pointer-events=\"none\"/><g transform=\"translate(117.5,387.5)\"><switch><foreignObject style=\"overflow:visible;\" pointer-events=\"all\" width=\"98\" height=\"24\" requiredFeatures=\"http://www.w3.org/TR/SVG11/feature#Extensibility\"><div xmlns=\"http://www.w3.org/1999/xhtml\" style=\"display: inline-block; font-size: 22px; font-family: Helvetica; color: rgb(0, 0, 0); line-height: 1.2; vertical-align: top; width: 98px; white-space: nowrap; overflow-wrap: normal; text-align: center;\"><div xmlns=\"http://www.w3.org/1999/xhtml\" style=\"display:inline-block;text-align:inherit;text-decoration:inherit;white-space:normal;\">Process 1</div></div></foreignObject><text x=\"49\" y=\"23\" fill=\"#000000\" text-anchor=\"middle\" font-size=\"22px\" font-family=\"Helvetica\">Process 1</text></switch></g><g transform=\"translate(117.5,177.5)\"><switch><foreignObject style=\"overflow:visible;\" pointer-events=\"all\" width=\"98\" height=\"24\" requiredFeatures=\"http://www.w3.org/TR/SVG11/feature#Extensibility\"><div xmlns=\"http://www.w3.org/1999/xhtml\" style=\"display: inline-block; font-size: 22px; font-family: Helvetica; color: rgb(0, 0, 0); line-height: 1.2; vertical-align: top; width: 98px; white-space: nowrap; overflow-wrap: normal; text-align: center;\"><div xmlns=\"http://www.w3.org/1999/xhtml\" style=\"display:inline-block;text-align:inherit;text-decoration:inherit;white-space:normal;\">Process 2</div></div></foreignObject><text x=\"49\" y=\"23\" fill=\"#000000\" text-anchor=\"middle\" font-size=\"22px\" font-family=\"Helvetica\">Process 2</text></switch></g><path d=\"M 607 160 L 607 303.63\" fill=\"none\" stroke=\"#000000\" stroke-miterlimit=\"10\" stroke-dasharray=\"3 3\" pointer-events=\"none\"/><path d=\"M 607 308.88 L 603.5 301.88 L 607 303.63 L 610.5 301.88 Z\" fill=\"#000000\" stroke=\"#000000\" stroke-miterlimit=\"10\" pointer-events=\"none\"/></g></svg>",
      "text/plain": [
       "<IPython.core.display.SVG object>"
      ]
     },
     "execution_count": 21,
     "metadata": {},
     "output_type": "execute_result"
    }
   ],
   "source": [
    "from IPython.display import SVG\n",
    "SVG(\"multiprocessing-2.svg\")"
   ]
  },
  {
   "cell_type": "markdown",
   "metadata": {},
   "source": [
    "Here the tasks do run concurrently in true manner i.e at the same time on different processes unlike as in multithreading where it juts appaers as if the tasks are running concurrently but in reality they don't.\n",
    "\n",
    "- Note: It is now mentioned in the docs for ProcessPoolExecutor that multiprocessing will not work in interactive consoles. It says The main module must be importable by worker subprocesses. This means that ProcessPoolExecutor will not work in the interactive interpreter. "
   ]
  },
  {
   "cell_type": "code",
   "execution_count": 24,
   "metadata": {},
   "outputs": [
    {
     "name": "stdout",
     "output_type": "stream",
     "text": [
      "Finished in 0.06 second(s)\n"
     ]
    }
   ],
   "source": [
    "#running async - Snippet 2\n",
    "import multiprocessing\n",
    "import time\n",
    "\n",
    "start = time.perf_counter()\n",
    "\n",
    "\n",
    "def do_something():\n",
    "    print('Sleeping 1 second(s)...')\n",
    "    time.sleep(1)\n",
    "    print('Done Sleeping...')\n",
    "\n",
    "p1 = multiprocessing.Process(target=do_something)\n",
    "p2 = multiprocessing.Process(target=do_something)\n",
    "\n",
    "p1.start()\n",
    "p2.start()\n",
    "\n",
    "finish = time.perf_counter()\n",
    "\n",
    "print(f'Finished in {round(finish-start, 2)} second(s)')"
   ]
  },
  {
   "cell_type": "code",
   "execution_count": 37,
   "metadata": {},
   "outputs": [
    {
     "name": "stdout",
     "output_type": "stream",
     "text": [
      "Finished in 0.35 second(s)\n"
     ]
    }
   ],
   "source": [
    "#running async - Snippet 2\n",
    "import multiprocessing\n",
    "import time\n",
    "\n",
    "start = time.perf_counter()\n",
    "\n",
    "\n",
    "def do_something():\n",
    "    print('Sleeping 1 second(s)...')\n",
    "    time.sleep(1)\n",
    "    print('Done Sleeping...')\n",
    "\n",
    "if __name__ == '__main__':\n",
    "    \n",
    "    p1 = multiprocessing.Process(target=do_something)\n",
    "    p2 = multiprocessing.Process(target=do_something)\n",
    "\n",
    "    p1.start()\n",
    "    p2.start()\n",
    "\n",
    "    p1.join()\n",
    "    p2.join()\n",
    "\n",
    "    finish = time.perf_counter()\n",
    "\n",
    "    print(f'Finished in {round(finish-start, 2)} second(s)')"
   ]
  },
  {
   "cell_type": "code",
   "execution_count": 38,
   "metadata": {},
   "outputs": [
    {
     "name": "stdout",
     "output_type": "stream",
     "text": [
      "Finished in 0.76 second(s)\n"
     ]
    }
   ],
   "source": [
    "#running async - Snippet 4\n",
    "import multiprocessing\n",
    "import time\n",
    "\n",
    "start = time.perf_counter()\n",
    "\n",
    "\n",
    "def do_something():\n",
    "    print('Sleeping 1 second(s)...')\n",
    "    time.sleep(1)\n",
    "    print('Done Sleeping...')\n",
    "\n",
    "if __name__ == '__main__':\n",
    "    processes = []\n",
    "\n",
    "    for _ in range(10):\n",
    "        t = multiprocessing.Process(target=do_something)\n",
    "        t.start()\n",
    "        processes.append(t)\n",
    "\n",
    "    #Because we can't go .join() within above for loop because it would lead to problem as in Snippet 2\n",
    "    for process in processes:\n",
    "        process.join()\n",
    "        \n",
    "\n",
    "    finish = time.perf_counter()\n",
    "\n",
    "    print(f'Finished in {round(finish-start, 2)} second(s)')"
   ]
  },
  {
   "cell_type": "code",
   "execution_count": 41,
   "metadata": {},
   "outputs": [
    {
     "name": "stdout",
     "output_type": "stream",
     "text": [
      "Finished in 0.82 second(s)\n"
     ]
    }
   ],
   "source": [
    "# Above implementation doesn't accept arguments - Snippet 5\n",
    "import multiprocessing\n",
    "import time\n",
    "\n",
    "def do_something(seconds):\n",
    "    print(f'Sleeping {seconds} second(s)...')\n",
    "    time.sleep(seconds)\n",
    "    print('Done Sleeping...')\n",
    "\n",
    "if __name__ == '__main__':\n",
    "    start = time.perf_counter()\n",
    "    threads = []\n",
    "    for _ in range(10):\n",
    "        t = multiprocessing.Process(target=do_something,args=[5])\n",
    "        t.start()\n",
    "        threads.append(t)\n",
    "\n",
    "    #Because we can't go .join() within above for loop because it would lead to problem as in Snippet 2\n",
    "    for t in threads:\n",
    "        t.join()\n",
    "        \n",
    "\n",
    "    finish = time.perf_counter()\n",
    "\n",
    "    print(f'Finished in {round(finish-start, 2)} second(s)')"
   ]
  },
  {
   "cell_type": "code",
   "execution_count": null,
   "metadata": {},
   "outputs": [],
   "source": [
    "# More efficent way of implementation - Snippet 6\n",
    "import concurrent.futures\n",
    "import time\n",
    "\n",
    "start = time.perf_counter()\n",
    "\n",
    "\n",
    "def do_something(seconds):\n",
    "    print(f'Sleeping {seconds} second(s)...')\n",
    "    time.sleep(seconds)\n",
    "    return 'Done Sleeping...'\n",
    "\n",
    "if __name__ == '__main__':\n",
    "    with concurrent.futures.ProcessPoolExecutor() as executor:\n",
    "        f1=executor.submit(do_something, 1) #used if function has to be executed once. It schedules the function to be executed and returns a future object.\n",
    "        f2=executor.submit(do_something, 1)\n",
    "        print(f1.result())\n",
    "        print(f2.result())\n",
    "\n",
    "    finish = time.perf_counter()\n",
    "\n",
    "    print(f'Finished in {round(finish-start, 2)} second(s)')\n",
    "\n"
   ]
  },
  {
   "cell_type": "code",
   "execution_count": null,
   "metadata": {},
   "outputs": [],
   "source": [
    "import concurrent.futures\n",
    "import time\n",
    "\n",
    "start = time.perf_counter()\n",
    "\n",
    "\n",
    "def do_something(seconds):\n",
    "    print(f'Sleeping {seconds} second(s)...')\n",
    "    time.sleep(seconds)\n",
    "    return 'Done Sleeping...'\n",
    "\n",
    "def main():\n",
    "\n",
    "    with concurrent.futures.ProcessPoolExecutor() as executor:\n",
    "        results =[executor.submit(do_something, 1) for _ in range(10)]\n",
    "\n",
    "        for f in concurrent.futures.as_completed(results):\n",
    "            print(f.result())\n",
    "\n",
    "\n",
    "    finish = time.perf_counter()\n",
    "\n",
    "    print(f'Finished in {round(finish-start, 2)} second(s)')\n",
    "\n",
    "if __name__ == '__main__':\n",
    "    main()"
   ]
  },
  {
   "cell_type": "code",
   "execution_count": null,
   "metadata": {},
   "outputs": [],
   "source": [
    "import concurrent.futures\n",
    "import time\n",
    "\n",
    "start = time.perf_counter()\n",
    "\n",
    "\n",
    "def do_something(seconds):\n",
    "    print(f'Sleeping {seconds} second(s)...')\n",
    "    time.sleep(seconds)\n",
    "    return f'Done Sleeping...{seconds}'\n",
    "\n",
    "def main():\n",
    "\n",
    "    with concurrent.futures.ProcessPoolExecutor() as executor:\n",
    "        secs = [5, 4, 3, 2, 1]\n",
    "        results = executor.map(do_something, secs)\n",
    "\n",
    "    for result in results:\n",
    "        print(result)\n",
    "\n",
    "    finish = time.perf_counter()\n",
    "\n",
    "    print(f'Finished in {round(finish-start, 2)} second(s)')\n",
    "\n",
    "if __name__ == '__main__':\n",
    "    main()"
   ]
  },
  {
   "cell_type": "code",
   "execution_count": null,
   "metadata": {},
   "outputs": [],
   "source": [
    "import time\n",
    "from PIL import Image, ImageFilter\n",
    "\n",
    "img_names = [\n",
    "    'temp2.png',\n",
    "    'template3.png',\n",
    "    'temp5.jpg',\n",
    "    'temp4.jpg'\n",
    "]\n",
    "\n",
    "t1 = time.perf_counter()\n",
    "\n",
    "size = (1200, 1200)\n",
    "\n",
    "\n",
    "for img_name in img_names:\n",
    "    img = Image.open(img_name)\n",
    "\n",
    "    img = img.filter(ImageFilter.GaussianBlur(15))\n",
    "\n",
    "    img.thumbnail(size)\n",
    "    img.save(f'processed/{img_name}')\n",
    "    print(f'{img_name} was processed...')\n",
    "\n",
    "t2 = time.perf_counter()\n",
    "\n",
    "print(f'Finished in {t2-t1} seconds')"
   ]
  },
  {
   "cell_type": "code",
   "execution_count": null,
   "metadata": {},
   "outputs": [],
   "source": [
    "import time\n",
    "import concurrent.futures\n",
    "from PIL import Image, ImageFilter\n",
    "\n",
    "img_names = [\n",
    "    'temp2.png',\n",
    "    'template3.png',\n",
    "    'temp5.jpg',\n",
    "    'temp4.jpg'\n",
    "]\n",
    "\n",
    "t1 = time.perf_counter()\n",
    "\n",
    "size = (1200, 1200)\n",
    "\n",
    "\n",
    "def process_image(img_name):\n",
    "    img = Image.open(img_name)\n",
    "\n",
    "    img = img.filter(ImageFilter.GaussianBlur(15))\n",
    "\n",
    "    img.thumbnail(size)\n",
    "    img.save(f'Template matching/{img_name}')\n",
    "    print(f'{img_name} was processed...')\n",
    "\n",
    "\n",
    "with concurrent.futures.ProcessPoolExecutor() as executor:\n",
    "    executor.map(process_image, img_names)\n",
    "\n",
    "\n",
    "t2 = time.perf_counter()\n",
    "\n",
    "print(f'Finished in {t2-t1} seconds')"
   ]
  }
 ],
 "metadata": {
  "interpreter": {
   "hash": "4a20f9aec864725aaab65e871419d99cbd7cf3d5ab0d2e7243b7ef9750fa61ca"
  },
  "kernelspec": {
   "display_name": "Python 3.9.9 64-bit ('pixsy_work': venv)",
   "language": "python",
   "name": "python3"
  },
  "language_info": {
   "codemirror_mode": {
    "name": "ipython",
    "version": 3
   },
   "file_extension": ".py",
   "mimetype": "text/x-python",
   "name": "python",
   "nbconvert_exporter": "python",
   "pygments_lexer": "ipython3",
   "version": "3.9.10"
  },
  "orig_nbformat": 4
 },
 "nbformat": 4,
 "nbformat_minor": 2
}
